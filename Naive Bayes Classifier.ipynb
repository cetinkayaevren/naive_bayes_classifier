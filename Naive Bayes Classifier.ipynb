{
 "cells": [
  {
   "cell_type": "markdown",
   "metadata": {},
   "source": [
    "### Evren Çetinkaya\n",
    "### ID: 150170118"
   ]
  },
  {
   "cell_type": "markdown",
   "metadata": {},
   "source": [
    "## Part A: Examine training sets\n",
    "**In this part, training datasets will be imported, covariance matrices are calculated and plot these datasets with two overlaid histogram and scatter plots.**"
   ]
  },
  {
   "cell_type": "code",
   "execution_count": 1,
   "metadata": {},
   "outputs": [],
   "source": [
    "import numpy as np\n",
    "import pandas as pd\n",
    "import matplotlib.pyplot as plt\n",
    "import matplotlib\n",
    "import math\n",
    "import random\n",
    "from sklearn.model_selection import KFold\n",
    "df1 = pd.read_csv(\"train1.csv\") \n",
    "df2 = pd.read_csv(\"train2.csv\") \n",
    "df2m = pd.read_csv(\"train2_modified.csv\") #will be used in Part D"
   ]
  },
  {
   "cell_type": "code",
   "execution_count": 2,
   "metadata": {},
   "outputs": [
    {
     "data": {
      "text/html": [
       "<div>\n",
       "<style scoped>\n",
       "    .dataframe tbody tr th:only-of-type {\n",
       "        vertical-align: middle;\n",
       "    }\n",
       "\n",
       "    .dataframe tbody tr th {\n",
       "        vertical-align: top;\n",
       "    }\n",
       "\n",
       "    .dataframe thead th {\n",
       "        text-align: right;\n",
       "    }\n",
       "</style>\n",
       "<table border=\"1\" class=\"dataframe\">\n",
       "  <thead>\n",
       "    <tr style=\"text-align: right;\">\n",
       "      <th></th>\n",
       "      <th>x1</th>\n",
       "      <th>x2</th>\n",
       "      <th>y</th>\n",
       "    </tr>\n",
       "  </thead>\n",
       "  <tbody>\n",
       "    <tr>\n",
       "      <th>0</th>\n",
       "      <td>4.786214</td>\n",
       "      <td>4.650073</td>\n",
       "      <td>1.0</td>\n",
       "    </tr>\n",
       "    <tr>\n",
       "      <th>1</th>\n",
       "      <td>3.170196</td>\n",
       "      <td>4.005515</td>\n",
       "      <td>1.0</td>\n",
       "    </tr>\n",
       "    <tr>\n",
       "      <th>2</th>\n",
       "      <td>5.000920</td>\n",
       "      <td>4.897350</td>\n",
       "      <td>1.0</td>\n",
       "    </tr>\n",
       "    <tr>\n",
       "      <th>3</th>\n",
       "      <td>4.522969</td>\n",
       "      <td>6.215182</td>\n",
       "      <td>0.0</td>\n",
       "    </tr>\n",
       "    <tr>\n",
       "      <th>4</th>\n",
       "      <td>3.599857</td>\n",
       "      <td>5.564085</td>\n",
       "      <td>0.0</td>\n",
       "    </tr>\n",
       "    <tr>\n",
       "      <th>5</th>\n",
       "      <td>3.731102</td>\n",
       "      <td>3.951173</td>\n",
       "      <td>1.0</td>\n",
       "    </tr>\n",
       "    <tr>\n",
       "      <th>6</th>\n",
       "      <td>4.316959</td>\n",
       "      <td>5.421007</td>\n",
       "      <td>1.0</td>\n",
       "    </tr>\n",
       "    <tr>\n",
       "      <th>7</th>\n",
       "      <td>4.444445</td>\n",
       "      <td>5.533156</td>\n",
       "      <td>0.0</td>\n",
       "    </tr>\n",
       "    <tr>\n",
       "      <th>8</th>\n",
       "      <td>5.304393</td>\n",
       "      <td>7.237585</td>\n",
       "      <td>0.0</td>\n",
       "    </tr>\n",
       "    <tr>\n",
       "      <th>9</th>\n",
       "      <td>4.278225</td>\n",
       "      <td>6.463720</td>\n",
       "      <td>0.0</td>\n",
       "    </tr>\n",
       "  </tbody>\n",
       "</table>\n",
       "</div>"
      ],
      "text/plain": [
       "         x1        x2    y\n",
       "0  4.786214  4.650073  1.0\n",
       "1  3.170196  4.005515  1.0\n",
       "2  5.000920  4.897350  1.0\n",
       "3  4.522969  6.215182  0.0\n",
       "4  3.599857  5.564085  0.0\n",
       "5  3.731102  3.951173  1.0\n",
       "6  4.316959  5.421007  1.0\n",
       "7  4.444445  5.533156  0.0\n",
       "8  5.304393  7.237585  0.0\n",
       "9  4.278225  6.463720  0.0"
      ]
     },
     "execution_count": 2,
     "metadata": {},
     "output_type": "execute_result"
    }
   ],
   "source": [
    "#By printing a dataframe, you can view the data in csv format\n",
    "df1.head(10) #Dataframe 1 first 10 element"
   ]
  },
  {
   "cell_type": "code",
   "execution_count": 3,
   "metadata": {},
   "outputs": [
    {
     "data": {
      "text/html": [
       "<div>\n",
       "<style scoped>\n",
       "    .dataframe tbody tr th:only-of-type {\n",
       "        vertical-align: middle;\n",
       "    }\n",
       "\n",
       "    .dataframe tbody tr th {\n",
       "        vertical-align: top;\n",
       "    }\n",
       "\n",
       "    .dataframe thead th {\n",
       "        text-align: right;\n",
       "    }\n",
       "</style>\n",
       "<table border=\"1\" class=\"dataframe\">\n",
       "  <thead>\n",
       "    <tr style=\"text-align: right;\">\n",
       "      <th></th>\n",
       "      <th>x1</th>\n",
       "      <th>x2</th>\n",
       "      <th>y</th>\n",
       "    </tr>\n",
       "  </thead>\n",
       "  <tbody>\n",
       "    <tr>\n",
       "      <th>0</th>\n",
       "      <td>3.614646</td>\n",
       "      <td>2.924913</td>\n",
       "      <td>1.0</td>\n",
       "    </tr>\n",
       "    <tr>\n",
       "      <th>1</th>\n",
       "      <td>5.626771</td>\n",
       "      <td>8.359861</td>\n",
       "      <td>0.0</td>\n",
       "    </tr>\n",
       "    <tr>\n",
       "      <th>2</th>\n",
       "      <td>4.578809</td>\n",
       "      <td>5.688260</td>\n",
       "      <td>1.0</td>\n",
       "    </tr>\n",
       "    <tr>\n",
       "      <th>3</th>\n",
       "      <td>4.616945</td>\n",
       "      <td>7.350656</td>\n",
       "      <td>0.0</td>\n",
       "    </tr>\n",
       "    <tr>\n",
       "      <th>4</th>\n",
       "      <td>4.682481</td>\n",
       "      <td>6.423178</td>\n",
       "      <td>0.0</td>\n",
       "    </tr>\n",
       "    <tr>\n",
       "      <th>5</th>\n",
       "      <td>4.415486</td>\n",
       "      <td>3.953422</td>\n",
       "      <td>1.0</td>\n",
       "    </tr>\n",
       "    <tr>\n",
       "      <th>6</th>\n",
       "      <td>4.017379</td>\n",
       "      <td>6.903292</td>\n",
       "      <td>0.0</td>\n",
       "    </tr>\n",
       "    <tr>\n",
       "      <th>7</th>\n",
       "      <td>3.451679</td>\n",
       "      <td>4.566132</td>\n",
       "      <td>1.0</td>\n",
       "    </tr>\n",
       "    <tr>\n",
       "      <th>8</th>\n",
       "      <td>5.616081</td>\n",
       "      <td>4.765069</td>\n",
       "      <td>1.0</td>\n",
       "    </tr>\n",
       "    <tr>\n",
       "      <th>9</th>\n",
       "      <td>3.911283</td>\n",
       "      <td>5.676729</td>\n",
       "      <td>0.0</td>\n",
       "    </tr>\n",
       "  </tbody>\n",
       "</table>\n",
       "</div>"
      ],
      "text/plain": [
       "         x1        x2    y\n",
       "0  3.614646  2.924913  1.0\n",
       "1  5.626771  8.359861  0.0\n",
       "2  4.578809  5.688260  1.0\n",
       "3  4.616945  7.350656  0.0\n",
       "4  4.682481  6.423178  0.0\n",
       "5  4.415486  3.953422  1.0\n",
       "6  4.017379  6.903292  0.0\n",
       "7  3.451679  4.566132  1.0\n",
       "8  5.616081  4.765069  1.0\n",
       "9  3.911283  5.676729  0.0"
      ]
     },
     "execution_count": 3,
     "metadata": {},
     "output_type": "execute_result"
    }
   ],
   "source": [
    "df2.head(10) #Dataframe 2 first 10 element"
   ]
  },
  {
   "cell_type": "code",
   "execution_count": 4,
   "metadata": {},
   "outputs": [],
   "source": [
    "df1_label_0 = df1[df1['y'] == 0]  #Seperating labels\n",
    "df1_label_1 = df1[df1['y'] == 1]  #Seperating labels"
   ]
  },
  {
   "cell_type": "code",
   "execution_count": 5,
   "metadata": {},
   "outputs": [],
   "source": [
    "df2_label_0 = df2[df2['y'] == 0]  #Seperating labels\n",
    "df2_label_1 = df2[df2['y'] == 1]  #Seperating labels"
   ]
  },
  {
   "cell_type": "code",
   "execution_count": 6,
   "metadata": {},
   "outputs": [],
   "source": [
    "df2m_label_0 = df2m[df2m['y'] == 0]  #Seperating labels\n",
    "df2m_label_1 = df2m[df2m['y'] == 1]  #Seperating labels"
   ]
  },
  {
   "cell_type": "code",
   "execution_count": 7,
   "metadata": {},
   "outputs": [],
   "source": [
    "df1_feature_1 = df1['x1'].values  #Extracting features as numpy array\n",
    "df1_feature_2 = df1['x2'].values  #Extracting features as numpy array\n",
    "\n",
    "df2_feature_1 = df2['x1'].values  #Extracting features as numpy array\n",
    "df2_feature_2 = df2['x2'].values  #Extracting features as numpy array\n",
    "\n",
    "df2m_feature_1 = df2m['x1'].values #Extracting features as numpy array\n",
    "df2m_feature_2 = df2m['x2'].values #Extracting features as numpy array"
   ]
  },
  {
   "cell_type": "code",
   "execution_count": 8,
   "metadata": {},
   "outputs": [],
   "source": [
    "#You can also extract a specific feature as numpy array as well.\n",
    "df1_label_0 = df1_label_0[['x1','x2']].values #Extracting all features from dataset\n",
    "df1_label_1 = df1_label_1[['x1','x2']].values #Extracting all features from dataset"
   ]
  },
  {
   "cell_type": "code",
   "execution_count": 9,
   "metadata": {},
   "outputs": [],
   "source": [
    "#You can also extract a specific feature as numpy array  as well.\n",
    "df2_label_0 = df2_label_0[['x1','x2']].values #Extracting all features from dataset\n",
    "df2_label_1 = df2_label_1[['x1','x2']].values #Extracting all features from dataset"
   ]
  },
  {
   "cell_type": "code",
   "execution_count": 10,
   "metadata": {},
   "outputs": [],
   "source": [
    "#You can also extract a specific feature as numpy array as well.\n",
    "df2m_label_0 = df2m_label_0[['x1','x2']].values #Extracting all features from dataset\n",
    "df2m_label_1 = df2m_label_1[['x1','x2']].values #Extracting all features from dataset"
   ]
  },
  {
   "cell_type": "markdown",
   "metadata": {},
   "source": [
    "**In this section, covariance matrices for all class is calculated by using function below**"
   ]
  },
  {
   "cell_type": "code",
   "execution_count": 11,
   "metadata": {},
   "outputs": [],
   "source": [
    "def calculate_covariance(df1_x1_numpy):  #Calculate covariance\n",
    "    mean_1 = np.mean(df1_x1_numpy[0])    #Mean of Feature 1\n",
    "    mean_2 = np.mean(df1_x1_numpy[1])    #Mean of Feature 2\n",
    "    my_covariance_matrix = np.zeros((df1_x1_numpy.shape[0],df1_x1_numpy.shape[0]))  #Create matrix full zeros first\n",
    "    res = 0\n",
    "    for i in range(df1_x1_numpy.shape[0]):\n",
    "        for j in range(df1_x1_numpy.shape[0]):\n",
    "            for a in range(df1_x1_numpy.shape[1]):   #Create elements for all index\n",
    "                if(i == 0 and j == 0):\n",
    "                    res += (df1_x1_numpy[i][a] - mean_1)*(df1_x1_numpy[j][a] - mean_1)\n",
    "                elif(i == 0 and j == 1):\n",
    "                    res += (df1_x1_numpy[i][a] - mean_1)*(df1_x1_numpy[j][a] - mean_2)\n",
    "                elif(i == 1 and j == 0):\n",
    "                    res += (df1_x1_numpy[i][a] - mean_2)*(df1_x1_numpy[j][a] - mean_1)\n",
    "                else:\n",
    "                    res += (df1_x1_numpy[i][a] - mean_2)*(df1_x1_numpy[j][a] - mean_2)\n",
    "            res = res/(df1_x1_numpy.shape[1])\n",
    "            my_covariance_matrix[i][j]=res\n",
    "            res = 0\n",
    "    \n",
    "    return my_covariance_matrix   #Returns covariance matrix"
   ]
  },
  {
   "cell_type": "code",
   "execution_count": 12,
   "metadata": {},
   "outputs": [],
   "source": [
    "df1_label_0 = df1_label_0.T   #Transpoze of each label\n",
    "df1_label_1 = df1_label_1.T   #Transpoze of each label"
   ]
  },
  {
   "cell_type": "code",
   "execution_count": 13,
   "metadata": {},
   "outputs": [],
   "source": [
    "df2_label_0 = df2_label_0.T  #Transpoze of each label\n",
    "df2_label_1 = df2_label_1.T  #Transpoze of each label"
   ]
  },
  {
   "cell_type": "code",
   "execution_count": 14,
   "metadata": {},
   "outputs": [],
   "source": [
    "df2m_label_0 = df2m_label_0.T  #Transpoze of each label\n",
    "df2m_label_1 = df2m_label_1.T  #Transpoze of each label"
   ]
  },
  {
   "cell_type": "code",
   "execution_count": 15,
   "metadata": {},
   "outputs": [
    {
     "name": "stdout",
     "output_type": "stream",
     "text": [
      "Dataframe 1 Label 0 Covariance Matrix:\n",
      " [[0.30779503 0.20875556]\n",
      " [0.20875556 0.403941  ]] \n",
      "\n",
      "Dataframe 1 Label 1 Covariance Matrix:\n",
      " [[0.30779503 0.20875556]\n",
      " [0.20875556 0.403941  ]]\n"
     ]
    }
   ],
   "source": [
    "#cov_mtrx = np.cov(df1_x1_numpy)\n",
    "#print(\"Asil sonuc: \", cov_mtrx)\n",
    "my_cov_df1_label_0 = calculate_covariance(df1_label_0)  #Calculating covariance matrix of the Dataframe 1 class 0\n",
    "my_cov_df1_label_1 = calculate_covariance(df1_label_1)  #Calculating covariance matrix of the Dataframe 1 class 1\n",
    "print(\"Dataframe 1 Label 0 Covariance Matrix:\\n\", my_cov_df1_label_0,\"\\n\")\n",
    "print(\"Dataframe 1 Label 1 Covariance Matrix:\\n\", my_cov_df1_label_1)"
   ]
  },
  {
   "cell_type": "code",
   "execution_count": 16,
   "metadata": {},
   "outputs": [
    {
     "name": "stdout",
     "output_type": "stream",
     "text": [
      "Dataframe 2 Label 0 Covariance Matrix:\n",
      " [[0.29913689 0.19183728]\n",
      " [0.19183728 0.3972486 ]] \n",
      "\n",
      "Dataframe 2 Label 1 Covariance Matrix:\n",
      " [[0.77441134 0.08920795]\n",
      " [0.08920795 0.52736643]]\n"
     ]
    }
   ],
   "source": [
    "#cov_mtrx = np.cov(df1_x1_numpy)\n",
    "#print(\"Asil sonuc: \", cov_mtrx)\n",
    "my_cov_df2_label_0 = calculate_covariance(df2_label_0)  #Calculating covariance matrix of the Dataframe 2 class 0\n",
    "my_cov_df2_label_1 = calculate_covariance(df2_label_1)  #Calculating covariance matrix of the Dataframe 2 class 1\n",
    "print(\"Dataframe 2 Label 0 Covariance Matrix:\\n\", my_cov_df2_label_0,\"\\n\")\n",
    "print(\"Dataframe 2 Label 1 Covariance Matrix:\\n\", my_cov_df2_label_1)"
   ]
  },
  {
   "cell_type": "markdown",
   "metadata": {},
   "source": [
    "**Covariance matrices are found for each dataset and each class above. We can plot these datasets as histograms and scatters with their features**"
   ]
  },
  {
   "cell_type": "code",
   "execution_count": 17,
   "metadata": {},
   "outputs": [
    {
     "name": "stderr",
     "output_type": "stream",
     "text": [
      "C:\\Users\\evren\\anaconda3\\lib\\site-packages\\ipykernel_launcher.py:13: UserWarning: FixedFormatter should only be used together with FixedLocator\n",
      "  del sys.path[0]\n",
      "C:\\Users\\evren\\anaconda3\\lib\\site-packages\\ipykernel_launcher.py:14: UserWarning: FixedFormatter should only be used together with FixedLocator\n",
      "  \n",
      "C:\\Users\\evren\\anaconda3\\lib\\site-packages\\ipykernel_launcher.py:20: UserWarning: FixedFormatter should only be used together with FixedLocator\n",
      "C:\\Users\\evren\\anaconda3\\lib\\site-packages\\ipykernel_launcher.py:21: UserWarning: FixedFormatter should only be used together with FixedLocator\n",
      "C:\\Users\\evren\\anaconda3\\lib\\site-packages\\ipykernel_launcher.py:27: UserWarning: FixedFormatter should only be used together with FixedLocator\n",
      "C:\\Users\\evren\\anaconda3\\lib\\site-packages\\ipykernel_launcher.py:28: UserWarning: FixedFormatter should only be used together with FixedLocator\n",
      "C:\\Users\\evren\\anaconda3\\lib\\site-packages\\ipykernel_launcher.py:34: UserWarning: FixedFormatter should only be used together with FixedLocator\n",
      "C:\\Users\\evren\\anaconda3\\lib\\site-packages\\ipykernel_launcher.py:35: UserWarning: FixedFormatter should only be used together with FixedLocator\n"
     ]
    },
    {
     "data": {
      "text/plain": [
       "Text(0.5, 1.0, 'Dataset 2 Label 1 Covariance')"
      ]
     },
     "execution_count": 17,
     "metadata": {},
     "output_type": "execute_result"
    },
    {
     "data": {
      "image/png": "[encoded data removed]",
      "text/plain": [
       "<Figure size 720x720 with 8 Axes>"
      ]
     },
     "metadata": {
      "needs_background": "light"
     },
     "output_type": "display_data"
    }
   ],
   "source": [
    "#PART A: Examine training sets here. plots etc.\n",
    "#Hint: df1_class0 = df1[df1['column_name']==0] creates a new dataframe and includes samples (rows) whose class values are 0\n",
    "#hint: for data distribution plots use plt.scatter(x-axis,y-axis,other params. check online)\n",
    "#Hint: for each new plot use plt.figure() so they won't overlap, one on top of another\n",
    "#-------\n",
    "#to plot cov. matrices you may use following code: (compute 'cov_mtrx' by yourself)\n",
    "alpha = ['x1', 'x2']\n",
    "fig = plt.figure(figsize=(10,10))\n",
    "\n",
    "ax = fig.add_subplot(221)\n",
    "cax = ax.matshow(my_cov_df1_label_0, interpolation='nearest') #cov. matrix of dataset1\n",
    "fig.colorbar(cax)\n",
    "ax.set_xticklabels(['']+alpha)\n",
    "ax.set_yticklabels(['']+alpha)\n",
    "ax.set_title('Dataset 1 Label 0 Covariance')\n",
    "\n",
    "ax2 = fig.add_subplot(222)\n",
    "cax = ax2.matshow(my_cov_df1_label_1,interpolation='nearest') #cov. matrix of dataset1\n",
    "fig.colorbar(cax)\n",
    "ax2.set_xticklabels(['']+alpha)\n",
    "ax2.set_yticklabels(['']+alpha)\n",
    "ax2.set_title('Dataset 1 Label 1 Covariance')\n",
    "\n",
    "ax2 = fig.add_subplot(223)\n",
    "cax = ax2.matshow(my_cov_df2_label_0,interpolation='nearest') #cov. matrix of dataset1\n",
    "fig.colorbar(cax)\n",
    "ax2.set_xticklabels(['']+alpha)\n",
    "ax2.set_yticklabels(['']+alpha)\n",
    "ax2.set_title('Dataset 2 Label 0 Covariance')\n",
    "\n",
    "ax2 = fig.add_subplot(224)\n",
    "cax = ax2.matshow(my_cov_df2_label_1,interpolation='nearest') #cov. matrix of dataset1\n",
    "fig.colorbar(cax)\n",
    "ax2.set_xticklabels(['']+alpha)\n",
    "ax2.set_yticklabels(['']+alpha)\n",
    "ax2.set_title('Dataset 2 Label 1 Covariance')\n",
    "\n",
    "#---------\n",
    "#for the histogram plots use plt.hist() (Remember: 4 of them we want)\n",
    "#for title use: plt.gca().set(title='Data distribution of feature x of trainingSet y', ylabel='Frequency')"
   ]
  },
  {
   "cell_type": "markdown",
   "metadata": {},
   "source": [
    "**As we can see to these covariance matrices, we can interpret that the dataset 1 covariance matrices for both class 0 and class 1 is the same . In the matrices for class 0 and 1, variances and the other elements are the same and positive numbers. Also they are linear and can be calculated by Eucledian distance when training. However in dataset 2, covariance matrices are different. Although these colors looks like similar, the colours they represent values are different. This dataset is quadratic and can be calculated via Mahalanobis Distance when training.**"
   ]
  },
  {
   "cell_type": "markdown",
   "metadata": {},
   "source": [
    "**Example set of feature for dataframe 1, class 0**"
   ]
  },
  {
   "cell_type": "code",
   "execution_count": 18,
   "metadata": {},
   "outputs": [
    {
     "data": {
      "text/plain": [
       "array([[4.52296945, 3.59985682, 4.44444465, 5.30439251, 4.27822548,\n",
       "        4.53229869, 5.20091972, 3.92999876, 4.69770953, 3.96512602,\n",
       "        4.73726809, 3.86136111, 3.651201  , 3.57141504, 3.7112495 ,\n",
       "        3.88853675, 4.58458187, 4.5193278 , 3.72321597, 3.42461318,\n",
       "        5.17004357, 4.28701442, 5.29856101, 4.09507733, 3.79347689,\n",
       "        4.34505179, 3.79809486, 3.9127795 , 3.5245603 , 4.47555271,\n",
       "        4.98621384, 4.48412026, 3.85385531, 4.5853951 , 4.49192715,\n",
       "        4.01771569, 4.08730014, 4.39558037, 3.6500672 , 4.27169515,\n",
       "        3.83347398, 4.01038187, 3.37682398, 3.3701956 , 4.04282558,\n",
       "        4.61596359, 3.42907412, 4.48193753, 4.0737434 , 2.88196885,\n",
       "        4.37986347, 3.41592926, 4.62353594, 3.4175708 , 4.15396419,\n",
       "        4.51695948, 5.40953653, 3.86089938, 4.56568417, 4.6298607 ,\n",
       "        3.69397987, 3.20088381, 4.20525115, 4.00058426, 3.93110226,\n",
       "        4.39936398, 4.21278082, 4.28108317, 5.18531972, 3.74439664,\n",
       "        5.45579323, 3.53367736, 4.16431489, 4.23537828, 4.82182252,\n",
       "        5.4646171 , 4.07381018, 4.42868368, 3.90907138, 4.05987812,\n",
       "        5.06820983, 4.24542312, 4.46997479, 3.63578977, 4.8904317 ,\n",
       "        4.52298303, 4.09151754, 5.11631982, 3.32455836, 3.92939158,\n",
       "        3.91068452, 4.88662551, 3.90015723, 4.10471325, 3.89340097,\n",
       "        4.81809254, 3.93699689, 3.44873197, 4.666758  , 3.37446024],\n",
       "       [6.21518193, 5.56408454, 5.53315642, 7.23758456, 6.46372036,\n",
       "        6.25229341, 5.79735045, 6.32506343, 5.77265992, 4.93421774,\n",
       "        5.69587266, 5.26460985, 5.18415677, 4.3066498 , 5.5463932 ,\n",
       "        5.80077312, 6.08954554, 5.24572279, 5.99008824, 5.23026217,\n",
       "        6.38466965, 5.72353398, 6.19153946, 5.75650761, 6.10567134,\n",
       "        6.77010739, 5.75082304, 6.04038647, 6.13983712, 6.13784076,\n",
       "        5.55007343, 6.29742194, 5.38732189, 5.5773587 , 6.40649476,\n",
       "        5.29427956, 5.07319862, 5.7858227 , 5.42217906, 5.86974621,\n",
       "        4.58443596, 5.46922504, 4.52680035, 4.90551529, 4.32385835,\n",
       "        6.03090447, 5.16638375, 5.52395484, 5.54007378, 5.01949798,\n",
       "        6.16877889, 5.39184808, 5.71936954, 5.43179911, 5.39238182,\n",
       "        6.32100708, 6.1402291 , 5.98274078, 5.75881485, 6.34814549,\n",
       "        5.63528402, 4.28646808, 6.09796508, 5.42258593, 4.8511727 ,\n",
       "        5.64850008, 5.50086609, 5.440644  , 6.25747263, 5.23351249,\n",
       "        6.94775019, 5.08314039, 5.24665983, 6.22659904, 7.10297715,\n",
       "        7.0568133 , 6.76338784, 5.61125245, 5.60558683, 5.82373647,\n",
       "        4.91115987, 6.52593972, 5.30445812, 5.80510586, 5.72350326,\n",
       "        6.6345955 , 5.96979404, 6.04252518, 4.19933187, 5.92976636,\n",
       "        5.48127234, 6.9624025 , 4.82846437, 6.19426395, 5.84824898,\n",
       "        5.43707559, 5.85330088, 4.85246088, 5.27100352, 4.52298745]])"
      ]
     },
     "execution_count": 18,
     "metadata": {},
     "output_type": "execute_result"
    }
   ],
   "source": [
    "df1_label_0"
   ]
  },
  {
   "cell_type": "markdown",
   "metadata": {},
   "source": [
    "**We can plot two overlaid transparent histograms for each feature and different classes. Subplots are used for creating histograms**"
   ]
  },
  {
   "cell_type": "code",
   "execution_count": 19,
   "metadata": {},
   "outputs": [
    {
     "data": {
      "image/png": "[encoded data removed]",
      "text/plain": [
       "<Figure size 720x720 with 2 Axes>"
      ]
     },
     "metadata": {
      "needs_background": "light"
     },
     "output_type": "display_data"
    }
   ],
   "source": [
    "# Create two overlayed histograms\n",
    "\n",
    "df1_x1_label_0 = df1_label_0[0]\n",
    "df1_x2_label_0 = df1_label_0[1]\n",
    "\n",
    "df1_x1_label_1 = df1_label_1[0]\n",
    "df1_x2_label_1 = df1_label_1[1]\n",
    "\n",
    "df2_x1_label_0 = df2_label_0[0]\n",
    "df2_x2_label_0 = df2_label_0[1]\n",
    "\n",
    "df2_x1_label_1 = df2_label_1[0]\n",
    "df2_x2_label_1 = df2_label_1[1]\n",
    "\n",
    "fig = plt.figure(figsize=(10,10))\n",
    "ax = fig.add_subplot(211)\n",
    "\n",
    "ax.hist(df1_x1_label_0, alpha=0.2)\n",
    "ax.hist(df1_x1_label_1, alpha=0.2,color='r')\n",
    "\n",
    "ax.legend([\"Class 0\", \"Class 1\"])\n",
    "plt.title(\"Dataset 1 Histogram For Feature 1 (x1)\")\n",
    "plt.ylabel(\"Value\")\n",
    "plt.xlabel(\"Feature 1 Value\")\n",
    "\n",
    "\n",
    "ax2 = fig.add_subplot(212)\n",
    "\n",
    "ax2.hist(df1_x2_label_0, alpha=0.2)\n",
    "ax2.hist(df1_x2_label_1, alpha=0.2,color='r')\n",
    "\n",
    "ax2.legend([\"Class 0\", \"Class 1\"])\n",
    "plt.title(\"Dataset 1 Histogram For Feature 2 (x2)\")\n",
    "plt.ylabel(\"Value\")\n",
    "plt.xlabel(\"Feature 2 Value\")\n",
    "\n",
    "\n",
    "\n",
    "plt.show()"
   ]
  },
  {
   "cell_type": "markdown",
   "metadata": {},
   "source": [
    "**As we can see from these histograms above, classes in Feature 1 are so close. Their features are very similar but classes are different. It can causes of decreasing performance when training and discriminating this feature for classifying. For feature 2, classes are more far and can be discrimated easier than feature 1 for dataset 1. However, feature 2 has also some similarities among class 0 and class 1**"
   ]
  },
  {
   "cell_type": "code",
   "execution_count": 20,
   "metadata": {},
   "outputs": [
    {
     "data": {
      "image/png": "[encoded data removed]",
      "text/plain": [
       "<Figure size 720x720 with 2 Axes>"
      ]
     },
     "metadata": {
      "needs_background": "light"
     },
     "output_type": "display_data"
    }
   ],
   "source": [
    "fig = plt.figure(figsize=(10,10))\n",
    "ax = fig.add_subplot(211)\n",
    "\n",
    "ax.hist(df2_x1_label_0, alpha=0.2)\n",
    "ax.hist(df2_x1_label_1, alpha=0.2,color='r')\n",
    "\n",
    "ax.legend([\"Class 0\", \"Class 1\"])\n",
    "plt.title(\"Dataset 2 Histogram For Feature 1 (x1)\")\n",
    "plt.ylabel(\"Value\")\n",
    "plt.xlabel(\"Feature 1 Value\")\n",
    "\n",
    "\n",
    "ax2 = fig.add_subplot(212)\n",
    "\n",
    "ax2.hist(df2_x2_label_0, alpha=0.2)\n",
    "ax2.hist(df2_x2_label_1, alpha=0.2,color='r')\n",
    "\n",
    "ax2.legend([\"Class 0\", \"Class 1\"])\n",
    "plt.title(\"Dataset 2 Histogram For Feature 2 (x2)\")\n",
    "plt.ylabel(\"Value\")\n",
    "plt.xlabel(\"Feature 2 Value\")\n",
    "\n",
    "\n",
    "plt.show()"
   ]
  },
  {
   "cell_type": "markdown",
   "metadata": {},
   "source": [
    "**As we can see from these histograms above, classes in Feature 1 are so close. Their features are very similar but classes are different. It can causes of decreasing performance when training and discriminating this feature for classifying. For feature 2, classes are more far and can be discrimated easier. This feature can help more for classifying two classes when training and testing.**"
   ]
  },
  {
   "cell_type": "markdown",
   "metadata": {},
   "source": [
    "**These datasets can also be plotted by using scatter plots. In this code below, x axis will be used for feature 1 and y axis will be used for feature 2.**"
   ]
  },
  {
   "cell_type": "code",
   "execution_count": 21,
   "metadata": {},
   "outputs": [
    {
     "data": {
      "image/png": "[encoded data removed]",
      "text/plain": [
       "<Figure size 720x720 with 2 Axes>"
      ]
     },
     "metadata": {
      "needs_background": "light"
     },
     "output_type": "display_data"
    }
   ],
   "source": [
    "fig = plt.figure(figsize=(10,10)) #Creating and adjusting the scale figures\n",
    "ax = fig.add_subplot(211)       #Create first subplot for Dataset 1\n",
    "\n",
    "ax.scatter(df1_x1_label_0,df1_x2_label_0)    #Scatter plot for class 0\n",
    "ax.scatter(df1_x1_label_1,df1_x2_label_1)    #Scatter plot for class 1\n",
    "\n",
    "ax.legend([\"Class 0\", \"Class 1\"])\n",
    "plt.title(\"Scatter Plot of The Dataset 1\")\n",
    "plt.ylabel(\"Feature 2\")\n",
    "plt.xlabel(\"Feature 1\")\n",
    "\n",
    "ax2 = fig.add_subplot(212)   #Create second subplot for Dataset 2\n",
    "\n",
    "ax2.scatter(df2_x1_label_0,df2_x2_label_0) #Scatter plot for class 0\n",
    "ax2.scatter(df2_x1_label_1,df2_x2_label_1) #Scatter plot for class 1\n",
    "\n",
    "ax2.legend([\"Class 0\", \"Class 1\"])\n",
    "plt.title(\"Scatter Plot of The Dataset 2\")\n",
    "plt.ylabel(\"Feature 2\")\n",
    "plt.xlabel(\"Feature 1\")\n",
    "\n",
    "plt.show()\n"
   ]
  },
  {
   "cell_type": "markdown",
   "metadata": {},
   "source": [
    "**By looking these scatters, we can understand that the feature 1 for both dataset are similar and it is hard for discriminating.**"
   ]
  },
  {
   "cell_type": "markdown",
   "metadata": {},
   "source": [
    "## PART B - Evaluation of Bayes classifier using random single dataset split into train and test sets"
   ]
  },
  {
   "cell_type": "markdown",
   "metadata": {},
   "source": [
    "**In this part, mean vectors and the covariances will be calculated. Discriminant function gi(x) will be created, datasets will be trained and tested.**"
   ]
  },
  {
   "cell_type": "markdown",
   "metadata": {},
   "source": [
    "**Covariance matrices for each dataframe and label**"
   ]
  },
  {
   "cell_type": "code",
   "execution_count": 22,
   "metadata": {},
   "outputs": [
    {
     "name": "stdout",
     "output_type": "stream",
     "text": [
      "Dataframe 1 Label 0 Covariance Matrix:\n",
      " [[0.30779503 0.20875556]\n",
      " [0.20875556 0.403941  ]] \n",
      "\n",
      "Dataframe 1 Label 1 Covariance Matrix:\n",
      " [[0.30779503 0.20875556]\n",
      " [0.20875556 0.403941  ]] \n",
      "\n",
      "\n",
      "Dataframe 2 Label 0 Covariance Matrix:\n",
      " [[0.29913689 0.19183728]\n",
      " [0.19183728 0.3972486 ]] \n",
      "\n",
      "Dataframe 2 Label 1 Covariance Matrix:\n",
      " [[0.77441134 0.08920795]\n",
      " [0.08920795 0.52736643]]\n"
     ]
    }
   ],
   "source": [
    "print(\"Dataframe 1 Label 0 Covariance Matrix:\\n\", my_cov_df1_label_0,\"\\n\")\n",
    "print(\"Dataframe 1 Label 1 Covariance Matrix:\\n\", my_cov_df1_label_1,\"\\n\\n\")\n",
    "print(\"Dataframe 2 Label 0 Covariance Matrix:\\n\", my_cov_df2_label_0,\"\\n\")\n",
    "print(\"Dataframe 2 Label 1 Covariance Matrix:\\n\", my_cov_df2_label_1)"
   ]
  },
  {
   "cell_type": "markdown",
   "metadata": {},
   "source": [
    "**Mean Vectors for each feature at each datasets**"
   ]
  },
  {
   "cell_type": "code",
   "execution_count": 23,
   "metadata": {},
   "outputs": [
    {
     "name": "stdout",
     "output_type": "stream",
     "text": [
      "Mean Vector of Dataset 1 Class 0\n",
      " [4.2 5.7] \n",
      "\n",
      "Mean Vector of Dataset 1 Class 1\n",
      " [4.  4.8] \n",
      "\n",
      "Mean Vector of Dataset 2 Class 0\n",
      " [4.69156024 6.8893364 ] \n",
      "\n",
      "Mean Vector of Dataset 2 Class 1\n",
      " [4.29725029 4.50444121] \n",
      "\n"
     ]
    }
   ],
   "source": [
    "mean_vector_df1_class_0 = np.array([np.mean(df1_label_0[0]),np.mean(df1_label_0[1])])\n",
    "\n",
    "mean_vector_df1_class_1 = np.array([np.mean(df1_label_1[0]),np.mean(df1_label_1[1])])\n",
    "\n",
    "mean_vector_df2_class_0 = np.array([np.mean(df2_label_0[0]),np.mean(df2_label_0[1])])\n",
    "\n",
    "mean_vector_df2_class_1 = np.array([np.mean(df2_label_1[0]),np.mean(df2_label_1[1])])\n",
    "\n",
    "print(\"Mean Vector of Dataset 1 Class 0\\n\", mean_vector_df1_class_0, \"\\n\")\n",
    "print(\"Mean Vector of Dataset 1 Class 1\\n\", mean_vector_df1_class_1, \"\\n\")\n",
    "print(\"Mean Vector of Dataset 2 Class 0\\n\", mean_vector_df2_class_0, \"\\n\")\n",
    "print(\"Mean Vector of Dataset 2 Class 1\\n\", mean_vector_df2_class_1, \"\\n\")"
   ]
  },
  {
   "cell_type": "markdown",
   "metadata": {},
   "source": [
    "**In this part, a dataset will be trained and the discriminant function will be created. For this, we have two cases. If the covariances of the dataset is the same, linear method will be applied (gi(x) = w1^t*x + w0). In addition, w1^t and w0 coefficients will be calculated for each class. If the covariances are not equal to each other into dataset, quadratic discriminant function will be applied (gi(x) = x.T*W*x + w^i.T*x + wi0). In this function, x.T*W*x,  w^i.T and wi0 coefficients will be calculated for each class**"
   ]
  },
  {
   "cell_type": "code",
   "execution_count": 24,
   "metadata": {},
   "outputs": [],
   "source": [
    "def trainBayes(df):\n",
    "    \n",
    "    df_label_0 = df[df['y'] == 0]   #Seperate each labels\n",
    "    df_label_1 = df[df['y'] == 1]    #Seperate each labels\n",
    "    df_features_0 = df_label_0[['x1','x2']].values.T  #Extract features as its transpozes\n",
    "    df_features_1 = df_label_1[['x1','x2']].values.T  #Extract features as its transpozes\n",
    "\n",
    "\n",
    "    mean_vector_class_0 = np.array([np.mean(df_features_0[0]),np.mean(df_features_0[1])])  #Mean vectors are calculated\n",
    "    mean_vector_class_1 = np.array([np.mean(df_features_1[0]),np.mean(df_features_1[1])])  #Mean vectors are calculated\n",
    "    cov_matr_0 = calculate_covariance(df_features_0)   #Covariance matrix class 0 calculated\n",
    "    cov_matr_1 = calculate_covariance(df_features_1)   #Covariance matrix class 1 calculated\n",
    "    cov_matr_0_inv = np.linalg.inv(cov_matr_0)    #Inverse covariance matrices calculated\n",
    "    cov_matr_1_inv = np.linalg.inv(cov_matr_1)    #Inverse covariance matrices calculated\n",
    "    df_features_0 = df_features_0.T     #Features are transpozed\n",
    "    df_features_1 = df_features_1.T     #Features are transpozed\n",
    "    sample_size_0 = len(df_features_0)  #Sample size for class 0 is calculated\n",
    "    sample_size_1 = len(df_features_1)  #Sample size for class 1 is calculated\n",
    "\n",
    "    prob_0 = (sample_size_0)/(sample_size_0 + sample_size_1)  #The probability of class 0 (P(c0)) is calculated\n",
    "    prob_1 = (sample_size_1)/(sample_size_0 + sample_size_1)  #The probability of class 1 (P(c1)) is calculated\n",
    "    my_predict_0 = []  \n",
    "    my_predict_1 = []\n",
    "    quadratic_inx_0 = 0  #quadratic inx 0 set as 0 first\n",
    "    quadratic_inx_1 = 0  #quadratic inx 1 set as 0 first\n",
    "    \n",
    "    if np.isclose(cov_matr_0, cov_matr_1).all(): #If the covariances are equal, linear function is calculated (ax+ b or w1^t*x + w0)\n",
    "        a_label_0 = np.dot(mean_vector_class_0.T, cov_matr_0_inv)\n",
    "        b_label_0 = np.log(prob_0) - (1/2)*(np.dot(np.dot(mean_vector_class_0.T, cov_matr_0_inv),mean_vector_class_0))\n",
    "        \n",
    "        a_label_1 = np.dot(mean_vector_class_1.T, cov_matr_1_inv)\n",
    "        b_label_1 = np.log(prob_1) - (1/2)*(np.dot(np.dot(mean_vector_class_1.T, cov_matr_1_inv),mean_vector_class_1))\n",
    "    else: #If the covariances are not equal, quadratic function is calculated (quadratic_inx + ax+ b or x.T*W*x + w^i.T*x + wi0)\n",
    "        quadratic_inx_0 = -np.dot((1/2),cov_matr_0_inv)\n",
    "        a_label_0 = np.dot(mean_vector_class_0.T, cov_matr_0_inv)\n",
    "        b_label_0 = -(1/2)*(np.dot(np.dot(mean_vector_class_0.T,cov_matr_0_inv),mean_vector_class_0)) -(1/2)*np.log(np.linalg.det(cov_matr_0)) + np.log(prob_0)\n",
    "        \n",
    "        quadratic_inx_1 = -np.dot((1/2),cov_matr_1_inv)\n",
    "        a_label_1 = np.dot(mean_vector_class_1.T, cov_matr_1_inv)\n",
    "        b_label_1 = -(1/2)*(np.dot(np.dot(mean_vector_class_1.T,cov_matr_1_inv),mean_vector_class_1)) -(1/2)*np.log(np.linalg.det(cov_matr_1)) + np.log(prob_1)\n",
    "        \n",
    "\n",
    "    return a_label_0,b_label_0,a_label_1,b_label_1,quadratic_inx_0,quadratic_inx_1 #Coefficients are returned"
   ]
  },
  {
   "cell_type": "markdown",
   "metadata": {},
   "source": [
    "**After implementing trainin function, we can train by sending features to the training function. After gaining the discriminant function, we can apply it to classify the test data**"
   ]
  },
  {
   "cell_type": "code",
   "execution_count": 25,
   "metadata": {},
   "outputs": [],
   "source": [
    "def classify_dataset(x,a0,b0,a1,b1,quad_0,quad_1):  #Classify the test datasets, by taking discriminant coefficients as input.\n",
    "    y_predicted = []       #Predicted values by discriminant function\n",
    "    x_data = x[['x1', 'x2']].values   #Extracting features from test data\n",
    "\n",
    "    for i in range(len(x_data)):    #Features are taken from dataset one by one\n",
    "        if np.sum(quad_0) == 0 and np.sum(quad_1) == 0:  #If this dataset is not quadratic, quadratic coefficients are assumed as 0\n",
    "            quad_0_mod = 0\n",
    "            quad_1_mod = 0\n",
    "            pass\n",
    "        else:      #If this dataset is quadratic, x.T*W*x is calculated\n",
    "            x_transpoze = x_data[i].reshape(-1,1).T\n",
    "            quad_0_mod = np.dot(np.dot(x_transpoze, quad_0),x_data[i].reshape(2,1))\n",
    "            quad_1_mod = np.dot(np.dot(x_transpoze, quad_1),x_data[i].reshape(2,1))\n",
    "            \n",
    "        predict_class_0 = quad_0_mod + np.dot(a0,x_data[i]) + b0 #Then, testing features are going to the discriminant functions\n",
    "        predict_class_1 = quad_1_mod + np.dot(a1,x_data[i]) + b1 #Then, testing features are going to the discriminant functions\n",
    "        if(predict_class_0 > predict_class_1):  #If the class 0 probability of features are higher than class 1 probability\n",
    "            result = 0       #This sample will predicted as class 0\n",
    "        else:\n",
    "            result = 1       #If not, this sample will predicted as class 1\n",
    "        y_predicted.append(result)    #These predictions are saced\n",
    "        \n",
    "    return y_predicted   #These predictions are returned"
   ]
  },
  {
   "cell_type": "markdown",
   "metadata": {},
   "source": [
    "## Testing Dataset 1 by Training with Dataset 1"
   ]
  },
  {
   "cell_type": "code",
   "execution_count": 26,
   "metadata": {},
   "outputs": [
    {
     "name": "stdout",
     "output_type": "stream",
     "text": [
      "[1, 1, 1, 0, 0, 1, 0, 0, 0, 0, 0, 1, 1, 0, 1, 0, 1, 1, 0, 1, 0, 0, 1, 1, 1, 1, 1, 1, 0, 0, 0, 1, 1, 0, 1, 0, 0, 1, 0, 0, 0, 0, 1, 0, 1, 1, 1, 0, 0, 0, 1, 1, 0, 0, 1, 1, 1, 0, 0, 1, 1, 0, 0, 1, 1, 1, 1, 0, 0, 0, 0, 0, 1, 1, 0, 0, 1, 1, 1, 1, 0, 0, 0, 1, 0, 0, 1, 1, 0, 1, 1, 1, 1, 0, 0, 1, 1, 1, 0, 0, 0, 1, 0, 1, 0, 0, 0, 1, 1, 0, 0, 1, 0, 0, 0, 1, 0, 0, 0, 1, 0, 0, 0, 1, 0, 1, 1, 1, 1, 1, 1, 1, 1, 0, 0, 1, 0, 0, 1, 0, 1, 1, 0, 0, 0, 0, 1, 1, 1, 1, 0, 1, 0, 0, 0, 0, 0, 0, 1, 1, 0, 1, 0, 0, 0, 0, 0, 1, 0, 1, 1, 1, 0, 0, 1, 0, 0, 1, 1, 0, 1, 1, 0, 1, 1, 1, 1, 0, 0, 0, 0, 1, 1, 1, 1, 1, 0, 1, 0, 0]\n"
     ]
    }
   ],
   "source": [
    "a0,b0,a1,b1,quad_0, quad_1 = trainBayes(df1)\n",
    "my_res = classify_dataset(df1, a0,b0,a1,b1,quad_0, quad_1)\n",
    "print(my_res)"
   ]
  },
  {
   "cell_type": "markdown",
   "metadata": {},
   "source": [
    "**Here is the predicted values for dataset 1 above**"
   ]
  },
  {
   "cell_type": "markdown",
   "metadata": {},
   "source": [
    "**We can calculate the error rate of this class by using both predicted labels and ground-truth labels**"
   ]
  },
  {
   "cell_type": "code",
   "execution_count": 27,
   "metadata": {},
   "outputs": [
    {
     "name": "stdout",
     "output_type": "stream",
     "text": [
      "The error rate of Dataset 2 is: % 21.0\n"
     ]
    }
   ],
   "source": [
    "my_res = np.array(my_res).astype(np.float32)\n",
    "ground_truth_df1 = df1['y'].values\n",
    "res = np.abs(ground_truth_df1 - my_res)\n",
    "occurrences = np.count_nonzero(res == 1)\n",
    "error_rate = (occurrences/len(df1))*100\n",
    "print(\"The error rate of Dataset 2 is: %\",error_rate)"
   ]
  },
  {
   "cell_type": "code",
   "execution_count": 28,
   "metadata": {},
   "outputs": [
    {
     "data": {
      "text/html": [
       "<div>\n",
       "<style scoped>\n",
       "    .dataframe tbody tr th:only-of-type {\n",
       "        vertical-align: middle;\n",
       "    }\n",
       "\n",
       "    .dataframe tbody tr th {\n",
       "        vertical-align: top;\n",
       "    }\n",
       "\n",
       "    .dataframe thead th {\n",
       "        text-align: right;\n",
       "    }\n",
       "</style>\n",
       "<table border=\"1\" class=\"dataframe\">\n",
       "  <thead>\n",
       "    <tr style=\"text-align: right;\">\n",
       "      <th></th>\n",
       "      <th>x1</th>\n",
       "      <th>x2</th>\n",
       "      <th>y</th>\n",
       "    </tr>\n",
       "  </thead>\n",
       "  <tbody>\n",
       "    <tr>\n",
       "      <th>0</th>\n",
       "      <td>4.786214</td>\n",
       "      <td>4.650073</td>\n",
       "      <td>1.0</td>\n",
       "    </tr>\n",
       "    <tr>\n",
       "      <th>1</th>\n",
       "      <td>3.170196</td>\n",
       "      <td>4.005515</td>\n",
       "      <td>1.0</td>\n",
       "    </tr>\n",
       "    <tr>\n",
       "      <th>2</th>\n",
       "      <td>5.000920</td>\n",
       "      <td>4.897350</td>\n",
       "      <td>1.0</td>\n",
       "    </tr>\n",
       "    <tr>\n",
       "      <th>3</th>\n",
       "      <td>4.522969</td>\n",
       "      <td>6.215182</td>\n",
       "      <td>0.0</td>\n",
       "    </tr>\n",
       "    <tr>\n",
       "      <th>4</th>\n",
       "      <td>3.599857</td>\n",
       "      <td>5.564085</td>\n",
       "      <td>0.0</td>\n",
       "    </tr>\n",
       "    <tr>\n",
       "      <th>5</th>\n",
       "      <td>3.731102</td>\n",
       "      <td>3.951173</td>\n",
       "      <td>1.0</td>\n",
       "    </tr>\n",
       "    <tr>\n",
       "      <th>6</th>\n",
       "      <td>4.316959</td>\n",
       "      <td>5.421007</td>\n",
       "      <td>1.0</td>\n",
       "    </tr>\n",
       "    <tr>\n",
       "      <th>7</th>\n",
       "      <td>4.444445</td>\n",
       "      <td>5.533156</td>\n",
       "      <td>0.0</td>\n",
       "    </tr>\n",
       "    <tr>\n",
       "      <th>8</th>\n",
       "      <td>5.304393</td>\n",
       "      <td>7.237585</td>\n",
       "      <td>0.0</td>\n",
       "    </tr>\n",
       "    <tr>\n",
       "      <th>9</th>\n",
       "      <td>4.278225</td>\n",
       "      <td>6.463720</td>\n",
       "      <td>0.0</td>\n",
       "    </tr>\n",
       "  </tbody>\n",
       "</table>\n",
       "</div>"
      ],
      "text/plain": [
       "         x1        x2    y\n",
       "0  4.786214  4.650073  1.0\n",
       "1  3.170196  4.005515  1.0\n",
       "2  5.000920  4.897350  1.0\n",
       "3  4.522969  6.215182  0.0\n",
       "4  3.599857  5.564085  0.0\n",
       "5  3.731102  3.951173  1.0\n",
       "6  4.316959  5.421007  1.0\n",
       "7  4.444445  5.533156  0.0\n",
       "8  5.304393  7.237585  0.0\n",
       "9  4.278225  6.463720  0.0"
      ]
     },
     "execution_count": 28,
     "metadata": {},
     "output_type": "execute_result"
    }
   ],
   "source": [
    "df1.head(10)"
   ]
  },
  {
   "cell_type": "markdown",
   "metadata": {},
   "source": [
    "## Testing Dataset 2 by Training with Dataset 2"
   ]
  },
  {
   "cell_type": "code",
   "execution_count": 29,
   "metadata": {},
   "outputs": [
    {
     "name": "stdout",
     "output_type": "stream",
     "text": [
      "[1, 0, 1, 0, 0, 1, 0, 1, 1, 0, 1, 1, 1, 0, 1, 0, 0, 0, 0, 1, 1, 0, 1, 0, 1, 1, 0, 0, 1, 0, 0, 1, 1, 1, 1, 1, 1, 0, 0, 0, 1, 1, 0, 1, 0, 1, 1, 1, 1, 1, 0, 1, 0, 1, 1, 1, 1, 0, 0, 1, 0, 0, 1, 0, 0, 1, 1, 1, 1, 0, 0, 0, 0, 1, 1, 1, 0, 0, 1, 0, 1, 1, 1, 0, 1, 0, 0, 0, 1, 1, 0, 0, 0, 0, 0, 1, 1, 1, 1, 0, 1, 0, 0, 0, 1, 1, 0, 1, 0, 0, 1, 1, 1, 0, 0, 0, 1, 0, 1, 0, 0, 0, 0, 1, 0, 0, 0, 0, 0, 0, 0, 1, 0, 0, 0, 1, 1, 0, 1, 1, 0, 1, 1, 0, 1, 0, 1, 0, 1, 0, 1, 1, 0, 1, 1, 1, 1, 0, 1, 1, 0, 1, 0, 1, 0, 0, 0, 1, 0, 1, 1, 1, 0, 0, 1, 1, 1, 1, 1, 1, 0, 0, 0, 1, 1, 0, 1, 0, 0, 1, 0, 0, 0, 1, 0, 0, 1, 1, 0, 0, 0, 1, 1, 1, 1, 1, 0, 0, 0, 0, 0, 1, 0, 1, 0, 1, 1, 0, 1, 0, 1, 1, 0, 0, 1, 0, 0, 1, 0, 1, 0, 1, 1, 0, 1, 1, 1, 0, 0, 1, 1, 1, 0, 1, 0, 0, 0, 1, 1, 1, 1, 0, 0, 0, 0, 0, 1, 0, 1, 0, 0, 1, 0, 0, 0, 0, 0, 1, 1, 1, 0, 1, 0, 0, 0, 1, 0, 0, 1, 1, 1, 0, 1, 1, 1, 1, 1, 0, 1, 0, 1, 1, 1, 1, 0, 1, 1, 1, 1, 1, 0, 0, 0, 1, 0, 1, 0, 1, 0, 1, 1, 0, 0, 1, 1, 1, 0, 0, 0, 1, 1, 0, 0, 1, 1, 1, 0, 1, 1, 1, 1, 1, 0, 0, 1, 0, 0, 1, 0, 0, 0, 1, 0, 1, 0, 1, 1, 1, 1, 1, 0, 0, 0, 1, 1, 0, 0, 0, 0, 0, 1, 0, 1, 0, 1, 0, 1, 1, 0, 1, 0, 1, 0, 0, 0, 0, 1, 1, 0, 1, 1, 0, 0, 1, 1, 0, 0, 1, 0, 0, 0, 1, 1, 0, 1, 0, 1, 1, 0, 0, 1, 1, 1, 1, 0, 1, 0, 0, 0, 0, 0, 1, 0, 1, 1, 0, 1, 0, 0, 1, 1, 1, 0, 1, 0, 1, 1, 1, 0, 1, 1, 1, 1, 0, 1, 0, 0, 0, 1, 0, 1, 1, 1, 0, 1, 1, 0, 1, 0, 0, 1, 0, 0, 1, 0, 0, 0, 1, 0, 0, 0, 0, 0, 0, 1, 0, 0, 1, 1, 0, 1, 0, 1, 0, 1, 1, 1, 0, 1, 0, 0, 1, 0, 0, 0, 0, 1, 0, 0, 0, 0, 1, 0, 1, 0, 1, 0, 0, 0, 0, 0, 0, 0, 1, 1, 1, 1, 0, 0, 0, 1, 1, 0, 1, 1, 1, 1, 1, 1, 1, 1, 0, 0, 0, 0, 0, 1, 1, 1, 1, 0, 1, 0, 0, 0, 1, 1, 0, 1, 1, 1, 1, 0, 1, 0, 1, 0, 1, 1, 0, 1, 0, 1, 0, 0, 0, 0, 0, 1, 0, 1, 1, 1, 0, 0, 1, 0, 1, 1, 0, 1, 1, 0, 1, 1, 0, 0, 1, 1, 0, 1, 1, 1, 1, 0, 1, 0, 0, 1, 1, 1, 0, 1, 0, 1, 0, 0, 0, 0, 1, 0, 1, 0, 0, 1, 1, 1, 1, 0, 0, 0, 1, 0, 1, 1, 0, 1, 0, 0, 0, 1, 1, 1, 1, 1, 0, 0, 0, 0, 0, 0, 0, 0, 1, 1, 1, 1, 1, 1, 1, 1, 0, 0, 1, 0, 0, 1, 1, 1, 0, 0, 1, 0, 1, 1, 1, 1, 1, 0, 1, 1, 0, 1, 0, 0, 1, 0, 1, 0, 0, 1, 1, 0, 0, 0, 1, 0, 1, 0, 0, 0, 0, 0, 1, 1, 0, 0, 1, 1, 1, 0, 0, 1, 0, 1, 1, 1, 1, 0, 1, 1, 1, 0, 1, 0, 1, 1, 0, 0, 0, 1, 0, 0, 1, 1, 1, 1, 0, 1, 0, 1, 0, 0, 0, 1, 1, 0, 1, 0, 0, 1, 1, 1, 0, 1, 0, 0, 1, 0, 0, 0, 0, 0, 0, 1, 0, 0, 0, 1, 1, 1, 0, 1, 1, 1, 0, 1, 1, 0, 1, 0, 0, 1, 0, 0, 0, 1, 1, 0, 0, 0, 1, 1, 0, 1, 1, 0, 1, 0, 1, 1, 0, 0, 1, 1, 0, 1, 1, 1, 0, 0, 1, 0, 1, 0, 1, 1, 0, 0, 1, 1, 1, 1, 0, 0, 0, 1, 0, 0, 0, 0, 0, 0, 1, 1, 0, 1, 0, 0, 0, 1, 0, 1, 0, 1, 1, 1, 1, 0, 0, 1, 1, 1, 1, 1, 0, 0, 1, 1, 0, 0, 0, 0, 0, 0, 1, 0, 1, 1, 0, 0, 1, 0, 0, 0, 0, 0, 0, 1, 0, 0, 0, 0, 1, 0, 1, 0, 0, 1, 1, 1, 1, 1, 1, 0, 1, 0, 1, 0, 0, 1, 0, 0, 1, 1, 1, 1, 1, 0, 0, 0, 1, 1, 0, 1, 1, 1, 1, 0, 0, 1, 0, 1, 0, 1, 1, 1, 0, 1, 0, 0, 1, 1, 0, 0, 1, 1, 1, 1, 1, 0, 1, 1, 0, 1, 1, 0, 1, 0, 0, 1, 1, 1, 1, 0, 0, 1, 1, 1, 1, 1, 1, 0, 0, 1, 1, 0, 0, 0, 0, 0, 0, 0, 1, 0, 0, 0, 1, 0, 1, 0, 1, 1, 1, 0, 1, 0, 0, 1, 1, 0, 1, 0, 1, 1, 0, 0, 1, 0, 1, 0, 0, 0, 0, 0, 0, 0, 0, 1, 1, 0, 1, 0, 1, 0, 1, 1, 1, 1, 0, 1, 1, 0, 0, 0, 1, 1, 1, 1, 0, 1, 1, 1, 1, 1, 0, 1, 1, 0, 1, 1, 1, 1, 0, 0, 0, 0, 1, 0, 1, 1, 0, 0, 0, 0, 0, 0, 0, 1, 0, 1, 1, 1, 1, 1, 1, 0, 0, 0, 0, 1, 0, 1, 0, 0, 1, 1, 1, 1, 1, 1, 1, 0, 1, 1, 0, 1, 1, 0, 0, 1, 0, 1, 0, 1, 0, 0, 0, 0, 0, 1, 1, 0, 1, 0, 0, 1, 0, 0, 1, 0, 0, 0, 0, 0, 0, 1, 0, 1, 0, 0, 0, 1, 1, 1, 1, 0, 1, 0, 1, 0, 0, 1, 1, 1, 1, 0, 1, 0, 1, 0, 0, 1, 1, 1, 1, 0, 1, 1, 1, 1, 1, 0, 1, 1, 0, 0, 0, 0, 0, 1, 1, 0, 0, 1, 0, 0, 0, 1, 1, 1, 1, 1, 0, 1, 0, 0, 0, 0, 1, 1, 0, 0, 1, 0, 0, 0, 0, 0, 0, 0, 0, 1, 1, 1, 1, 0, 1, 1, 1, 0, 0, 0, 0, 1, 1, 1, 0, 0, 1, 0, 0, 0, 1, 1, 1, 0, 1, 1, 1, 1, 0, 0, 1, 0, 1, 0, 1, 1, 0, 0, 1, 0, 0, 0, 0, 1, 0, 0, 0, 1, 0, 1, 0, 1, 0, 1, 0, 1, 1, 0, 1, 0, 0, 1, 1, 0, 0, 1, 1, 1, 0, 0, 0, 1, 1, 1, 1, 0, 1, 0, 1, 1, 1, 0, 1, 1, 0, 0, 1, 0, 1, 0, 0, 1, 1, 1, 1, 1, 1, 1, 1, 0, 1, 0, 1, 1, 0, 0, 0, 0, 0, 1, 1, 1, 1, 0, 1, 0, 0, 1, 1, 1, 0, 0, 1, 1, 1, 0, 0, 0, 0, 1, 0, 1, 0, 1, 1, 0, 1, 1, 0, 1, 0, 1, 0, 0, 0, 1, 1, 0, 0, 1, 1, 0, 0, 1, 0, 1, 1, 1, 0, 0, 1, 0, 0, 0, 0, 1, 0, 1, 0, 0, 0, 0, 0, 0, 0, 1, 0, 1, 0, 1, 0, 1, 0, 1, 0, 1, 0, 0, 0, 0, 1, 1, 1, 1, 1, 1, 1, 0, 0, 1, 1, 1, 0, 1, 0, 1, 1, 1, 0, 0, 1, 0, 0, 1, 1, 1, 1, 0, 0, 1, 1, 1, 0, 0, 1, 0, 0, 1, 1, 0, 1, 1, 1, 1, 1, 0, 0, 0, 1, 1, 0, 0, 1, 0, 0, 0, 1, 0, 1, 0, 0, 0, 0, 0, 1, 1, 0, 0, 0, 0, 0, 0, 0, 0, 1, 0, 0, 0, 1, 1, 0, 0, 1, 1, 0, 1, 0, 0, 1, 0, 1, 0, 1, 1, 0, 1, 0, 1, 0, 0, 1, 1, 1, 1, 0, 1, 1, 0, 1, 1, 0, 1, 1, 1, 0, 0, 1, 0, 0, 0, 1, 1, 0, 0, 1, 1, 0, 1, 0, 1, 0, 1, 1, 1, 0, 1, 0, 1, 0, 0, 1, 1, 0, 0, 0, 1, 0, 0, 0, 0, 0, 0, 0, 0, 0, 0, 0, 1, 0, 0, 1, 0, 0, 0, 1, 0, 0, 1, 0, 0, 1, 1, 1, 0, 1, 1, 0, 1, 0, 1, 0, 1, 1, 0, 1, 0, 0, 0, 1, 0, 1, 1, 0, 0, 0, 0, 1, 0, 1, 1, 1, 1, 0, 1, 1, 0, 1, 0, 0, 1, 0, 1, 0, 0, 1, 0, 1, 0, 0, 1, 0, 0, 1, 1, 0, 0, 1, 0, 1, 1, 1, 0, 0, 1, 0, 1, 1]\n"
     ]
    }
   ],
   "source": [
    "a0,b0,a1,b1,quad_0, quad_1 = trainBayes(df2)\n",
    "my_res = classify_dataset(df2, a0,b0,a1,b1,quad_0, quad_1)\n",
    "print(my_res)"
   ]
  },
  {
   "cell_type": "markdown",
   "metadata": {},
   "source": [
    "**Here is the predicted values for dataset 1 above**"
   ]
  },
  {
   "cell_type": "markdown",
   "metadata": {},
   "source": [
    "**We can calculate the error rate of this class by using both predicted labels and ground-truth labels**"
   ]
  },
  {
   "cell_type": "code",
   "execution_count": 30,
   "metadata": {},
   "outputs": [
    {
     "name": "stdout",
     "output_type": "stream",
     "text": [
      "The error rate of Dataset 2 is: % 3.25\n"
     ]
    }
   ],
   "source": [
    "my_res = np.array(my_res).astype(np.float32)\n",
    "ground_truth_df2 = df2['y'].values\n",
    "res = np.abs(ground_truth_df2 - my_res)\n",
    "occurrences = np.count_nonzero(res == 1)\n",
    "error_rate = (occurrences/len(df2))*100\n",
    "print(\"The error rate of Dataset 2 is: %\",error_rate)"
   ]
  },
  {
   "cell_type": "code",
   "execution_count": 31,
   "metadata": {},
   "outputs": [
    {
     "data": {
      "text/html": [
       "<div>\n",
       "<style scoped>\n",
       "    .dataframe tbody tr th:only-of-type {\n",
       "        vertical-align: middle;\n",
       "    }\n",
       "\n",
       "    .dataframe tbody tr th {\n",
       "        vertical-align: top;\n",
       "    }\n",
       "\n",
       "    .dataframe thead th {\n",
       "        text-align: right;\n",
       "    }\n",
       "</style>\n",
       "<table border=\"1\" class=\"dataframe\">\n",
       "  <thead>\n",
       "    <tr style=\"text-align: right;\">\n",
       "      <th></th>\n",
       "      <th>x1</th>\n",
       "      <th>x2</th>\n",
       "      <th>y</th>\n",
       "    </tr>\n",
       "  </thead>\n",
       "  <tbody>\n",
       "    <tr>\n",
       "      <th>0</th>\n",
       "      <td>3.614646</td>\n",
       "      <td>2.924913</td>\n",
       "      <td>1.0</td>\n",
       "    </tr>\n",
       "    <tr>\n",
       "      <th>1</th>\n",
       "      <td>5.626771</td>\n",
       "      <td>8.359861</td>\n",
       "      <td>0.0</td>\n",
       "    </tr>\n",
       "    <tr>\n",
       "      <th>2</th>\n",
       "      <td>4.578809</td>\n",
       "      <td>5.688260</td>\n",
       "      <td>1.0</td>\n",
       "    </tr>\n",
       "    <tr>\n",
       "      <th>3</th>\n",
       "      <td>4.616945</td>\n",
       "      <td>7.350656</td>\n",
       "      <td>0.0</td>\n",
       "    </tr>\n",
       "    <tr>\n",
       "      <th>4</th>\n",
       "      <td>4.682481</td>\n",
       "      <td>6.423178</td>\n",
       "      <td>0.0</td>\n",
       "    </tr>\n",
       "    <tr>\n",
       "      <th>5</th>\n",
       "      <td>4.415486</td>\n",
       "      <td>3.953422</td>\n",
       "      <td>1.0</td>\n",
       "    </tr>\n",
       "    <tr>\n",
       "      <th>6</th>\n",
       "      <td>4.017379</td>\n",
       "      <td>6.903292</td>\n",
       "      <td>0.0</td>\n",
       "    </tr>\n",
       "    <tr>\n",
       "      <th>7</th>\n",
       "      <td>3.451679</td>\n",
       "      <td>4.566132</td>\n",
       "      <td>1.0</td>\n",
       "    </tr>\n",
       "    <tr>\n",
       "      <th>8</th>\n",
       "      <td>5.616081</td>\n",
       "      <td>4.765069</td>\n",
       "      <td>1.0</td>\n",
       "    </tr>\n",
       "    <tr>\n",
       "      <th>9</th>\n",
       "      <td>3.911283</td>\n",
       "      <td>5.676729</td>\n",
       "      <td>0.0</td>\n",
       "    </tr>\n",
       "  </tbody>\n",
       "</table>\n",
       "</div>"
      ],
      "text/plain": [
       "         x1        x2    y\n",
       "0  3.614646  2.924913  1.0\n",
       "1  5.626771  8.359861  0.0\n",
       "2  4.578809  5.688260  1.0\n",
       "3  4.616945  7.350656  0.0\n",
       "4  4.682481  6.423178  0.0\n",
       "5  4.415486  3.953422  1.0\n",
       "6  4.017379  6.903292  0.0\n",
       "7  3.451679  4.566132  1.0\n",
       "8  5.616081  4.765069  1.0\n",
       "9  3.911283  5.676729  0.0"
      ]
     },
     "execution_count": 31,
     "metadata": {},
     "output_type": "execute_result"
    }
   ],
   "source": [
    "df2.head(10)"
   ]
  },
  {
   "cell_type": "markdown",
   "metadata": {},
   "source": [
    "## Testing the Test Datasets and Calculating the Error"
   ]
  },
  {
   "cell_type": "markdown",
   "metadata": {},
   "source": [
    "**Now, we are using the test datasets which are not included while training (unseen data), and we will gain error rates.**"
   ]
  },
  {
   "cell_type": "code",
   "execution_count": 32,
   "metadata": {},
   "outputs": [],
   "source": [
    "#Implement PART B:\n",
    "test1 = pd.read_csv(\"test1.csv\")   #Read test1\n",
    "test2 = pd.read_csv(\"test2.csv\")   #Read test2"
   ]
  },
  {
   "cell_type": "code",
   "execution_count": 33,
   "metadata": {},
   "outputs": [
    {
     "data": {
      "text/html": [
       "<div>\n",
       "<style scoped>\n",
       "    .dataframe tbody tr th:only-of-type {\n",
       "        vertical-align: middle;\n",
       "    }\n",
       "\n",
       "    .dataframe tbody tr th {\n",
       "        vertical-align: top;\n",
       "    }\n",
       "\n",
       "    .dataframe thead th {\n",
       "        text-align: right;\n",
       "    }\n",
       "</style>\n",
       "<table border=\"1\" class=\"dataframe\">\n",
       "  <thead>\n",
       "    <tr style=\"text-align: right;\">\n",
       "      <th></th>\n",
       "      <th>x1</th>\n",
       "      <th>x2</th>\n",
       "      <th>y</th>\n",
       "    </tr>\n",
       "  </thead>\n",
       "  <tbody>\n",
       "    <tr>\n",
       "      <th>0</th>\n",
       "      <td>4.834707</td>\n",
       "      <td>5.518777</td>\n",
       "      <td>1.0</td>\n",
       "    </tr>\n",
       "    <tr>\n",
       "      <th>1</th>\n",
       "      <td>3.758435</td>\n",
       "      <td>4.227406</td>\n",
       "      <td>1.0</td>\n",
       "    </tr>\n",
       "    <tr>\n",
       "      <th>2</th>\n",
       "      <td>4.195908</td>\n",
       "      <td>5.421247</td>\n",
       "      <td>0.0</td>\n",
       "    </tr>\n",
       "    <tr>\n",
       "      <th>3</th>\n",
       "      <td>3.696578</td>\n",
       "      <td>5.595470</td>\n",
       "      <td>0.0</td>\n",
       "    </tr>\n",
       "    <tr>\n",
       "      <th>4</th>\n",
       "      <td>4.766536</td>\n",
       "      <td>5.451948</td>\n",
       "      <td>0.0</td>\n",
       "    </tr>\n",
       "    <tr>\n",
       "      <th>5</th>\n",
       "      <td>3.995908</td>\n",
       "      <td>4.521247</td>\n",
       "      <td>1.0</td>\n",
       "    </tr>\n",
       "    <tr>\n",
       "      <th>6</th>\n",
       "      <td>4.332009</td>\n",
       "      <td>6.019581</td>\n",
       "      <td>0.0</td>\n",
       "    </tr>\n",
       "    <tr>\n",
       "      <th>7</th>\n",
       "      <td>3.627079</td>\n",
       "      <td>4.945297</td>\n",
       "      <td>0.0</td>\n",
       "    </tr>\n",
       "    <tr>\n",
       "      <th>8</th>\n",
       "      <td>3.621785</td>\n",
       "      <td>5.680205</td>\n",
       "      <td>0.0</td>\n",
       "    </tr>\n",
       "    <tr>\n",
       "      <th>9</th>\n",
       "      <td>3.637066</td>\n",
       "      <td>4.964107</td>\n",
       "      <td>1.0</td>\n",
       "    </tr>\n",
       "  </tbody>\n",
       "</table>\n",
       "</div>"
      ],
      "text/plain": [
       "         x1        x2    y\n",
       "0  4.834707  5.518777  1.0\n",
       "1  3.758435  4.227406  1.0\n",
       "2  4.195908  5.421247  0.0\n",
       "3  3.696578  5.595470  0.0\n",
       "4  4.766536  5.451948  0.0\n",
       "5  3.995908  4.521247  1.0\n",
       "6  4.332009  6.019581  0.0\n",
       "7  3.627079  4.945297  0.0\n",
       "8  3.621785  5.680205  0.0\n",
       "9  3.637066  4.964107  1.0"
      ]
     },
     "execution_count": 33,
     "metadata": {},
     "output_type": "execute_result"
    }
   ],
   "source": [
    "test1.head(10)   #Show first 10 sample from test1"
   ]
  },
  {
   "cell_type": "code",
   "execution_count": 34,
   "metadata": {},
   "outputs": [
    {
     "data": {
      "text/html": [
       "<div>\n",
       "<style scoped>\n",
       "    .dataframe tbody tr th:only-of-type {\n",
       "        vertical-align: middle;\n",
       "    }\n",
       "\n",
       "    .dataframe tbody tr th {\n",
       "        vertical-align: top;\n",
       "    }\n",
       "\n",
       "    .dataframe thead th {\n",
       "        text-align: right;\n",
       "    }\n",
       "</style>\n",
       "<table border=\"1\" class=\"dataframe\">\n",
       "  <thead>\n",
       "    <tr style=\"text-align: right;\">\n",
       "      <th></th>\n",
       "      <th>x1</th>\n",
       "      <th>x2</th>\n",
       "      <th>y</th>\n",
       "    </tr>\n",
       "  </thead>\n",
       "  <tbody>\n",
       "    <tr>\n",
       "      <th>0</th>\n",
       "      <td>4.418160</td>\n",
       "      <td>5.223632</td>\n",
       "      <td>1.0</td>\n",
       "    </tr>\n",
       "    <tr>\n",
       "      <th>1</th>\n",
       "      <td>4.509276</td>\n",
       "      <td>5.495003</td>\n",
       "      <td>0.0</td>\n",
       "    </tr>\n",
       "    <tr>\n",
       "      <th>2</th>\n",
       "      <td>5.131102</td>\n",
       "      <td>4.692929</td>\n",
       "      <td>1.0</td>\n",
       "    </tr>\n",
       "    <tr>\n",
       "      <th>3</th>\n",
       "      <td>4.159342</td>\n",
       "      <td>7.058550</td>\n",
       "      <td>0.0</td>\n",
       "    </tr>\n",
       "    <tr>\n",
       "      <th>4</th>\n",
       "      <td>3.872938</td>\n",
       "      <td>5.929577</td>\n",
       "      <td>0.0</td>\n",
       "    </tr>\n",
       "    <tr>\n",
       "      <th>5</th>\n",
       "      <td>3.839523</td>\n",
       "      <td>7.217872</td>\n",
       "      <td>0.0</td>\n",
       "    </tr>\n",
       "    <tr>\n",
       "      <th>6</th>\n",
       "      <td>4.899772</td>\n",
       "      <td>4.290045</td>\n",
       "      <td>1.0</td>\n",
       "    </tr>\n",
       "    <tr>\n",
       "      <th>7</th>\n",
       "      <td>4.747105</td>\n",
       "      <td>6.326746</td>\n",
       "      <td>0.0</td>\n",
       "    </tr>\n",
       "    <tr>\n",
       "      <th>8</th>\n",
       "      <td>5.099105</td>\n",
       "      <td>3.861619</td>\n",
       "      <td>1.0</td>\n",
       "    </tr>\n",
       "    <tr>\n",
       "      <th>9</th>\n",
       "      <td>4.815539</td>\n",
       "      <td>5.661825</td>\n",
       "      <td>1.0</td>\n",
       "    </tr>\n",
       "  </tbody>\n",
       "</table>\n",
       "</div>"
      ],
      "text/plain": [
       "         x1        x2    y\n",
       "0  4.418160  5.223632  1.0\n",
       "1  4.509276  5.495003  0.0\n",
       "2  5.131102  4.692929  1.0\n",
       "3  4.159342  7.058550  0.0\n",
       "4  3.872938  5.929577  0.0\n",
       "5  3.839523  7.217872  0.0\n",
       "6  4.899772  4.290045  1.0\n",
       "7  4.747105  6.326746  0.0\n",
       "8  5.099105  3.861619  1.0\n",
       "9  4.815539  5.661825  1.0"
      ]
     },
     "execution_count": 34,
     "metadata": {},
     "output_type": "execute_result"
    }
   ],
   "source": [
    "test2.head(10) #Show first 10 sample from test1"
   ]
  },
  {
   "cell_type": "markdown",
   "metadata": {},
   "source": [
    "## Implementation of Test dataset into the Naive Bayes Classifier"
   ]
  },
  {
   "cell_type": "markdown",
   "metadata": {},
   "source": [
    "### Test 1\n",
    "**Dataframe 1 is trained and the test1 dataset will be tested into Bayes classifier**"
   ]
  },
  {
   "cell_type": "code",
   "execution_count": 35,
   "metadata": {},
   "outputs": [
    {
     "name": "stdout",
     "output_type": "stream",
     "text": [
      "The error rate of Test 1 is: % 20.0\n"
     ]
    }
   ],
   "source": [
    "a0,b0,a1,b1,quad_0, quad_1 = trainBayes(df1)   #Model is trained by Dataset 1\n",
    "my_res = np.array(classify_dataset(test1,a0,b0,a1,b1,quad_0,quad_1)).astype(np.float32)  #Test1 results are saved as vector\n",
    "ground_truth_test1 = test1['y'].values\n",
    "res = np.abs(ground_truth_test1 - my_res)\n",
    "occurrences = np.count_nonzero(res == 1)\n",
    "error_rate = (occurrences/len(test1))*100      #Error rate is calculated\n",
    "print(\"The error rate of Test 1 is: %\",error_rate)"
   ]
  },
  {
   "cell_type": "markdown",
   "metadata": {},
   "source": [
    "**We have %20 error rate for test 1 dataset**"
   ]
  },
  {
   "cell_type": "markdown",
   "metadata": {},
   "source": [
    "### Test 2\n",
    "**Dataframe 2 is trained and the test2 dataset will be tested into Bayes classifier**"
   ]
  },
  {
   "cell_type": "code",
   "execution_count": 36,
   "metadata": {},
   "outputs": [
    {
     "name": "stdout",
     "output_type": "stream",
     "text": [
      "The error rate of Test 2 is: % 3.0\n"
     ]
    }
   ],
   "source": [
    "a0,b0,a1,b1,quad_0, quad_1 = trainBayes(df2)    #Model is trained by Dataset 2\n",
    "my_res_2 = np.array(classify_dataset(test2,a0,b0,a1,b1,quad_0,quad_1)).astype(np.float32) #Test2 results are saved as vector\n",
    "ground_truth_test2 = test2['y'].values\n",
    "res_2 = np.abs(ground_truth_test2 - my_res_2)\n",
    "occurrences = np.count_nonzero(res_2 == 1)\n",
    "error_rate = (occurrences/len(test2))*100  #Error rate is calculated\n",
    "print(\"The error rate of Test 2 is: %\",error_rate)"
   ]
  },
  {
   "cell_type": "markdown",
   "metadata": {},
   "source": [
    "**We have %3 error rate for test 2 dataset**"
   ]
  },
  {
   "cell_type": "markdown",
   "metadata": {},
   "source": [
    "## PART C - Evaluation of Bayes classifier using 3-fold cross-validation"
   ]
  },
  {
   "cell_type": "markdown",
   "metadata": {},
   "source": [
    "**In this section, we will use 3-Fold Cross Validation while training and testin datasets. For doing that, Scikit-Learn library will be used.**"
   ]
  },
  {
   "cell_type": "markdown",
   "metadata": {},
   "source": [
    "**Firstly, train and test samples for each datasets are concatenated.**"
   ]
  },
  {
   "cell_type": "code",
   "execution_count": 37,
   "metadata": {},
   "outputs": [
    {
     "data": {
      "text/html": [
       "<div>\n",
       "<style scoped>\n",
       "    .dataframe tbody tr th:only-of-type {\n",
       "        vertical-align: middle;\n",
       "    }\n",
       "\n",
       "    .dataframe tbody tr th {\n",
       "        vertical-align: top;\n",
       "    }\n",
       "\n",
       "    .dataframe thead th {\n",
       "        text-align: right;\n",
       "    }\n",
       "</style>\n",
       "<table border=\"1\" class=\"dataframe\">\n",
       "  <thead>\n",
       "    <tr style=\"text-align: right;\">\n",
       "      <th></th>\n",
       "      <th>x1</th>\n",
       "      <th>x2</th>\n",
       "      <th>y</th>\n",
       "    </tr>\n",
       "  </thead>\n",
       "  <tbody>\n",
       "    <tr>\n",
       "      <th>0</th>\n",
       "      <td>4.786214</td>\n",
       "      <td>4.650073</td>\n",
       "      <td>1.0</td>\n",
       "    </tr>\n",
       "    <tr>\n",
       "      <th>1</th>\n",
       "      <td>3.170196</td>\n",
       "      <td>4.005515</td>\n",
       "      <td>1.0</td>\n",
       "    </tr>\n",
       "    <tr>\n",
       "      <th>2</th>\n",
       "      <td>5.000920</td>\n",
       "      <td>4.897350</td>\n",
       "      <td>1.0</td>\n",
       "    </tr>\n",
       "    <tr>\n",
       "      <th>3</th>\n",
       "      <td>4.522969</td>\n",
       "      <td>6.215182</td>\n",
       "      <td>0.0</td>\n",
       "    </tr>\n",
       "    <tr>\n",
       "      <th>4</th>\n",
       "      <td>3.599857</td>\n",
       "      <td>5.564085</td>\n",
       "      <td>0.0</td>\n",
       "    </tr>\n",
       "    <tr>\n",
       "      <th>...</th>\n",
       "      <td>...</td>\n",
       "      <td>...</td>\n",
       "      <td>...</td>\n",
       "    </tr>\n",
       "    <tr>\n",
       "      <th>295</th>\n",
       "      <td>5.034707</td>\n",
       "      <td>6.418777</td>\n",
       "      <td>0.0</td>\n",
       "    </tr>\n",
       "    <tr>\n",
       "      <th>296</th>\n",
       "      <td>3.605000</td>\n",
       "      <td>4.456600</td>\n",
       "      <td>1.0</td>\n",
       "    </tr>\n",
       "    <tr>\n",
       "      <th>297</th>\n",
       "      <td>4.153244</td>\n",
       "      <td>4.857783</td>\n",
       "      <td>0.0</td>\n",
       "    </tr>\n",
       "    <tr>\n",
       "      <th>298</th>\n",
       "      <td>3.258241</td>\n",
       "      <td>4.223597</td>\n",
       "      <td>1.0</td>\n",
       "    </tr>\n",
       "    <tr>\n",
       "      <th>299</th>\n",
       "      <td>4.874281</td>\n",
       "      <td>7.084665</td>\n",
       "      <td>0.0</td>\n",
       "    </tr>\n",
       "  </tbody>\n",
       "</table>\n",
       "<p>300 rows × 3 columns</p>\n",
       "</div>"
      ],
      "text/plain": [
       "           x1        x2    y\n",
       "0    4.786214  4.650073  1.0\n",
       "1    3.170196  4.005515  1.0\n",
       "2    5.000920  4.897350  1.0\n",
       "3    4.522969  6.215182  0.0\n",
       "4    3.599857  5.564085  0.0\n",
       "..        ...       ...  ...\n",
       "295  5.034707  6.418777  0.0\n",
       "296  3.605000  4.456600  1.0\n",
       "297  4.153244  4.857783  0.0\n",
       "298  3.258241  4.223597  1.0\n",
       "299  4.874281  7.084665  0.0\n",
       "\n",
       "[300 rows x 3 columns]"
      ]
     },
     "execution_count": 37,
     "metadata": {},
     "output_type": "execute_result"
    }
   ],
   "source": [
    "#Implement PART C:\n",
    "\n",
    "concat_train_test_1 = pd.concat([df1,test1], axis=0).reset_index().drop(['index'],axis = 1) #Concatenate\n",
    "concat_train_test_2 = pd.concat([df2,test2], axis=0).reset_index().drop(['index'],axis = 1) #Concatenate\n",
    "concat_train_test_1"
   ]
  },
  {
   "cell_type": "code",
   "execution_count": 38,
   "metadata": {},
   "outputs": [
    {
     "data": {
      "text/html": [
       "<div>\n",
       "<style scoped>\n",
       "    .dataframe tbody tr th:only-of-type {\n",
       "        vertical-align: middle;\n",
       "    }\n",
       "\n",
       "    .dataframe tbody tr th {\n",
       "        vertical-align: top;\n",
       "    }\n",
       "\n",
       "    .dataframe thead th {\n",
       "        text-align: right;\n",
       "    }\n",
       "</style>\n",
       "<table border=\"1\" class=\"dataframe\">\n",
       "  <thead>\n",
       "    <tr style=\"text-align: right;\">\n",
       "      <th></th>\n",
       "      <th>x1</th>\n",
       "      <th>x2</th>\n",
       "      <th>y</th>\n",
       "    </tr>\n",
       "  </thead>\n",
       "  <tbody>\n",
       "    <tr>\n",
       "      <th>0</th>\n",
       "      <td>3.614646</td>\n",
       "      <td>2.924913</td>\n",
       "      <td>1.0</td>\n",
       "    </tr>\n",
       "    <tr>\n",
       "      <th>1</th>\n",
       "      <td>5.626771</td>\n",
       "      <td>8.359861</td>\n",
       "      <td>0.0</td>\n",
       "    </tr>\n",
       "    <tr>\n",
       "      <th>2</th>\n",
       "      <td>4.578809</td>\n",
       "      <td>5.688260</td>\n",
       "      <td>1.0</td>\n",
       "    </tr>\n",
       "    <tr>\n",
       "      <th>3</th>\n",
       "      <td>4.616945</td>\n",
       "      <td>7.350656</td>\n",
       "      <td>0.0</td>\n",
       "    </tr>\n",
       "    <tr>\n",
       "      <th>4</th>\n",
       "      <td>4.682481</td>\n",
       "      <td>6.423178</td>\n",
       "      <td>0.0</td>\n",
       "    </tr>\n",
       "    <tr>\n",
       "      <th>...</th>\n",
       "      <td>...</td>\n",
       "      <td>...</td>\n",
       "      <td>...</td>\n",
       "    </tr>\n",
       "    <tr>\n",
       "      <th>1995</th>\n",
       "      <td>2.919332</td>\n",
       "      <td>4.784195</td>\n",
       "      <td>1.0</td>\n",
       "    </tr>\n",
       "    <tr>\n",
       "      <th>1996</th>\n",
       "      <td>5.252280</td>\n",
       "      <td>7.237716</td>\n",
       "      <td>0.0</td>\n",
       "    </tr>\n",
       "    <tr>\n",
       "      <th>1997</th>\n",
       "      <td>3.698371</td>\n",
       "      <td>3.761957</td>\n",
       "      <td>1.0</td>\n",
       "    </tr>\n",
       "    <tr>\n",
       "      <th>1998</th>\n",
       "      <td>4.228699</td>\n",
       "      <td>8.790368</td>\n",
       "      <td>0.0</td>\n",
       "    </tr>\n",
       "    <tr>\n",
       "      <th>1999</th>\n",
       "      <td>4.035976</td>\n",
       "      <td>5.872765</td>\n",
       "      <td>0.0</td>\n",
       "    </tr>\n",
       "  </tbody>\n",
       "</table>\n",
       "<p>2000 rows × 3 columns</p>\n",
       "</div>"
      ],
      "text/plain": [
       "            x1        x2    y\n",
       "0     3.614646  2.924913  1.0\n",
       "1     5.626771  8.359861  0.0\n",
       "2     4.578809  5.688260  1.0\n",
       "3     4.616945  7.350656  0.0\n",
       "4     4.682481  6.423178  0.0\n",
       "...        ...       ...  ...\n",
       "1995  2.919332  4.784195  1.0\n",
       "1996  5.252280  7.237716  0.0\n",
       "1997  3.698371  3.761957  1.0\n",
       "1998  4.228699  8.790368  0.0\n",
       "1999  4.035976  5.872765  0.0\n",
       "\n",
       "[2000 rows x 3 columns]"
      ]
     },
     "execution_count": 38,
     "metadata": {},
     "output_type": "execute_result"
    }
   ],
   "source": [
    "concat_train_test_2  #Concatenated dataset"
   ]
  },
  {
   "cell_type": "markdown",
   "metadata": {},
   "source": [
    "## Applying 3-Fold Cross Validation on These New Datasets"
   ]
  },
  {
   "cell_type": "markdown",
   "metadata": {},
   "source": [
    "### Dataset 1 (Train + Test Concatenating)"
   ]
  },
  {
   "cell_type": "code",
   "execution_count": 39,
   "metadata": {},
   "outputs": [
    {
     "name": "stdout",
     "output_type": "stream",
     "text": [
      "3-FOLD CROSS VALIDATION FOR DATASET 1 (TRAIN+TEST)\n",
      "\n",
      "Mean Vector of Train Dataset Class 0\n",
      " [4.21685337 5.65793425] \n",
      "\n",
      "Mean Vector of Train Dataset Class 1\n",
      " [3.97302434 4.76658597] \n",
      "\n",
      "Mean Vector of Test Dataset Class 0\n",
      " [4.16629326 5.7841315 ] \n",
      "\n",
      "Mean Vector of Test Dataset Class 1\n",
      " [4.05395131 4.86682805] \n",
      "\n",
      "Covariance Matrix of Train Dataset Class 0\n",
      " [[0.28767287 0.21382917]\n",
      " [0.21382917 0.42567009]] \n",
      "\n",
      "Covariance Matrix of Train Dataset Class 1\n",
      " [[0.27394362 0.20781445]\n",
      " [0.20781445 0.37045223]] \n",
      "\n",
      "Covariance Matrix of Test Dataset Class 0\n",
      " [[0.30869306 0.21315262]\n",
      " [0.21315262 0.34425007]] \n",
      "\n",
      "Covariance Matrix of Test Dataset Class 1\n",
      " [[0.33348965 0.21552017]\n",
      " [0.21552017 0.45860397]] \n",
      "\n",
      "The error rate of Test Dataset is: % 18.0 \n",
      "\n",
      "\n",
      "Mean Vector of Train Dataset Class 0\n",
      " [4.18810461 5.71915992] \n",
      "\n",
      "Mean Vector of Train Dataset Class 1\n",
      " [3.9873125  4.76202164] \n",
      "\n",
      "Mean Vector of Test Dataset Class 0\n",
      " [4.22451907 5.66050711] \n",
      "\n",
      "Mean Vector of Test Dataset Class 1\n",
      " [4.02462867 4.87372271] \n",
      "\n",
      "Covariance Matrix of Train Dataset Class 0\n",
      " [[0.29144515 0.20229309]\n",
      " [0.20229309 0.39205132]] \n",
      "\n",
      "Covariance Matrix of Train Dataset Class 1\n",
      " [[0.31799391 0.23299056]\n",
      " [0.23299056 0.44411219]] \n",
      "\n",
      "Covariance Matrix of Test Dataset Class 0\n",
      " [[0.30219268 0.23401487]\n",
      " [0.23401487 0.42040174]] \n",
      "\n",
      "Covariance Matrix of Test Dataset Class 1\n",
      " [[0.25017417 0.1690489 ]\n",
      " [0.1690489  0.31222125]] \n",
      "\n",
      "The error rate of Test Dataset is: % 23.0 \n",
      "\n",
      "\n",
      "Mean Vector of Train Dataset Class 0\n",
      " [4.19511209 5.72294367] \n",
      "\n",
      "Mean Vector of Train Dataset Class 1\n",
      " [4.03914483 4.87030951] \n",
      "\n",
      "Mean Vector of Test Dataset Class 0\n",
      " [4.20948829 5.65546229] \n",
      "\n",
      "Mean Vector of Test Dataset Class 1\n",
      " [3.91931372 4.65507631] \n",
      "\n",
      "Covariance Matrix of Train Dataset Class 0\n",
      " [[0.30632318 0.22167903]\n",
      " [0.22167903 0.38576166]] \n",
      "\n",
      "Covariance Matrix of Train Dataset Class 1\n",
      " [[0.29163439 0.19200394]\n",
      " [0.19200394 0.38469983]] \n",
      "\n",
      "Covariance Matrix of Test Dataset Class 0\n",
      " [[0.27361176 0.19439791]\n",
      " [0.19439791 0.43071936]] \n",
      "\n",
      "Covariance Matrix of Test Dataset Class 1\n",
      " [[0.29302673 0.23641864]\n",
      " [0.23641864 0.4066788 ]] \n",
      "\n",
      "The error rate of Test Dataset is: % 18.0 \n",
      "\n",
      "\n",
      "ALL ERROR RATES FOR 3-FOLD CROSS VALIDATION (%):  [18.0, 23.0, 18.0]\n",
      "THE AVERAGE ERROR OF THE TESTING RESULT (%):  19.666666666666668\n"
     ]
    }
   ],
   "source": [
    "from sklearn.model_selection import KFold\n",
    "\n",
    "kf = KFold(n_splits=3, random_state = 1773, shuffle=True)  #3 Fold and random state is 1773\n",
    "kf.get_n_splits(concat_train_test_1)\n",
    "error_rates_fold = []\n",
    "print(\"3-FOLD CROSS VALIDATION FOR DATASET 1 (TRAIN+TEST)\\n\")\n",
    "for train, test in kf.split(concat_train_test_1):     #For each fold, we have train and test samples are splitted\n",
    "                                                      #Covariances and mean vectors are calculated\n",
    "    \n",
    "    train_dataset = concat_train_test_1.take(train)\n",
    "    test_dataset = concat_train_test_1.take(test)\n",
    "    \n",
    "    train_label_0 = train_dataset[train_dataset['y'] == 0]\n",
    "    train_label_1 = train_dataset[train_dataset['y'] == 1]\n",
    "    test_label_0 = test_dataset[test_dataset['y'] == 0]\n",
    "    test_label_1 = test_dataset[test_dataset['y'] == 1]\n",
    "    \n",
    "    \n",
    "    train_features_0 = train_label_0[['x1','x2']].values.T\n",
    "    train_features_1 = train_label_1[['x1','x2']].values.T\n",
    "    test_features_0 = test_label_0[['x1','x2']].values.T\n",
    "    test_features_1 = test_label_1[['x1','x2']].values.T\n",
    "\n",
    "\n",
    "    mean_vector_train_class_0 = np.array([np.mean(train_features_0[0]),np.mean(train_features_0[1])])\n",
    "    mean_vector_train_class_1 = np.array([np.mean(train_features_1[0]),np.mean(train_features_1[1])])\n",
    "    mean_vector_test_class_0 = np.array([np.mean(test_features_0[0]),np.mean(test_features_0[1])])\n",
    "    mean_vector_test_class_1 = np.array([np.mean(test_features_1[0]),np.mean(test_features_1[1])])\n",
    "                                \n",
    "    cov_matr_train_0 = calculate_covariance(train_features_0)\n",
    "    cov_matr_train_1 = calculate_covariance(train_features_1)\n",
    "    cov_matr_test_0 = calculate_covariance(test_features_0)\n",
    "    cov_matr_test_1 = calculate_covariance(test_features_1)\n",
    "                                \n",
    "    print(\"Mean Vector of Train Dataset Class 0\\n\", mean_vector_train_class_0,\"\\n\")\n",
    "    print(\"Mean Vector of Train Dataset Class 1\\n\", mean_vector_train_class_1,\"\\n\")\n",
    "    print(\"Mean Vector of Test Dataset Class 0\\n\", mean_vector_test_class_0,\"\\n\")\n",
    "    print(\"Mean Vector of Test Dataset Class 1\\n\", mean_vector_test_class_1,\"\\n\")\n",
    "                                \n",
    "    print(\"Covariance Matrix of Train Dataset Class 0\\n\", cov_matr_train_0,\"\\n\")\n",
    "    print(\"Covariance Matrix of Train Dataset Class 1\\n\", cov_matr_train_1,\"\\n\")\n",
    "    print(\"Covariance Matrix of Test Dataset Class 0\\n\", cov_matr_test_0,\"\\n\")\n",
    "    print(\"Covariance Matrix of Test Dataset Class 1\\n\", cov_matr_test_1,\"\\n\")\n",
    "    \n",
    "    #Training the train dataset, computing gi(x) coefficients\n",
    "    \n",
    "    a0,b0,a1,b1,quad_0, quad_1 = trainBayes(train_dataset)\n",
    "    \n",
    "    #Testing the Test Dataset\n",
    "    \n",
    "    my_res_2 = np.array(classify_dataset(test_dataset,a0,b0,a1,b1,quad_0,quad_1)).astype(np.float32)\n",
    "    ground_truth_test2 = test_dataset['y'].values\n",
    "    res_2 = np.abs(ground_truth_test2 - my_res_2)\n",
    "    occurrences = np.count_nonzero(res_2 == 1)\n",
    "    \n",
    "    #Computing Error rate for each Fold\n",
    "    error_rate = (occurrences/len(test_dataset))*100\n",
    "    print(\"The error rate of Test Dataset is: %\",error_rate,\"\\n\\n\") #Error Rate for left-out Fold\n",
    "    error_rates_fold.append(error_rate)   #Saving The Errors\n",
    "    \n",
    "print(\"ALL ERROR RATES FOR 3-FOLD CROSS VALIDATION (%): \",error_rates_fold)\n",
    "print(\"THE AVERAGE ERROR OF THE TESTING RESULT (%): \", (np.sum(error_rates_fold))/len(error_rates_fold))\n"
   ]
  },
  {
   "cell_type": "markdown",
   "metadata": {},
   "source": [
    "**Without using 3-Fold Cross Validation, the error rate of the test1 dataset was %20. After implementing 3-Fold cross validation we have %19.66 error rate which is better than the normal implementation. In 3-Fold, some random folds are also have %18 error rates. Thanks to the 3-Fold Cross Validation, some possible distrubiton of training and testing samples are done and we can see the accuracy and error rates for each distributions. However, in the normal implementation we have certain training and testing samples and we cannot see possible accuracy and error rates. Also this 3-Fold gives us more accurate average testing results than the normal one. Thus, 3-Fold cross-validation is more reliable than the normal implementation.**"
   ]
  },
  {
   "cell_type": "markdown",
   "metadata": {},
   "source": [
    "### Dataset 2 (Train + Test Concatenating)"
   ]
  },
  {
   "cell_type": "code",
   "execution_count": 40,
   "metadata": {},
   "outputs": [
    {
     "name": "stdout",
     "output_type": "stream",
     "text": [
      "3-FOLD CROSS VALIDATION FOR DATASET 1 (TRAIN+TEST)\n",
      "\n",
      "Mean Vector of Train Dataset Class 0\n",
      " [4.69037798 6.88044606] \n",
      "\n",
      "Mean Vector of Train Dataset Class 1\n",
      " [4.33508966 4.47279835] \n",
      "\n",
      "Mean Vector of Test Dataset Class 0\n",
      " [4.72924992 6.92113657] \n",
      "\n",
      "Mean Vector of Test Dataset Class 1\n",
      " [4.26699974 4.55163786] \n",
      "\n",
      "Covariance Matrix of Train Dataset Class 0\n",
      " [[0.30303991 0.20212036]\n",
      " [0.20212036 0.41601273]] \n",
      "\n",
      "Covariance Matrix of Train Dataset Class 1\n",
      " [[0.83994731 0.07856867]\n",
      " [0.07856867 0.53273553]] \n",
      "\n",
      "Covariance Matrix of Test Dataset Class 0\n",
      " [[0.29786702 0.15793291]\n",
      " [0.15793291 0.36613457]] \n",
      "\n",
      "Covariance Matrix of Test Dataset Class 1\n",
      " [[0.67714475 0.11904872]\n",
      " [0.11904872 0.53040716]] \n",
      "\n",
      "The error rate of Test Dataset is: % 3.1484257871064467 \n",
      "\n",
      "\n",
      "Mean Vector of Train Dataset Class 0\n",
      " [4.70288698 6.89161534] \n",
      "\n",
      "Mean Vector of Train Dataset Class 1\n",
      " [4.30326171 4.51272046] \n",
      "\n",
      "Mean Vector of Test Dataset Class 0\n",
      " [4.70417121 6.89863793] \n",
      "\n",
      "Mean Vector of Test Dataset Class 1\n",
      " [4.33096268 4.47128842] \n",
      "\n",
      "Covariance Matrix of Train Dataset Class 0\n",
      " [[0.294153   0.18489565]\n",
      " [0.18489565 0.399771  ]] \n",
      "\n",
      "Covariance Matrix of Train Dataset Class 1\n",
      " [[0.77500282 0.09020163]\n",
      " [0.09020163 0.52194331]] \n",
      "\n",
      "Covariance Matrix of Test Dataset Class 0\n",
      " [[0.31627567 0.193331  ]\n",
      " [0.193331   0.39973857]] \n",
      "\n",
      "Covariance Matrix of Test Dataset Class 1\n",
      " [[0.80985222 0.09308648]\n",
      " [0.09308648 0.55553725]] \n",
      "\n",
      "The error rate of Test Dataset is: % 3.4482758620689653 \n",
      "\n",
      "\n",
      "Mean Vector of Train Dataset Class 0\n",
      " [4.7165986  6.90978681] \n",
      "\n",
      "Mean Vector of Train Dataset Class 1\n",
      " [4.29869134 4.51182726] \n",
      "\n",
      "Mean Vector of Test Dataset Class 0\n",
      " [4.67612217 6.86164409] \n",
      "\n",
      "Mean Vector of Test Dataset Class 1\n",
      " [4.33909455 4.47426361] \n",
      "\n",
      "Covariance Matrix of Train Dataset Class 0\n",
      " [[0.30731075 0.17593103]\n",
      " [0.17593103 0.38321313]] \n",
      "\n",
      "Covariance Matrix of Train Dataset Class 1\n",
      " [[0.74391982 0.10490051]\n",
      " [0.10490051 0.5444722 ]] \n",
      "\n",
      "Covariance Matrix of Test Dataset Class 0\n",
      " [[0.28896041 0.21067711]\n",
      " [0.21067711 0.43213711]] \n",
      "\n",
      "Covariance Matrix of Test Dataset Class 1\n",
      " [[0.86911944 0.06446847]\n",
      " [0.06446847 0.51060405]] \n",
      "\n",
      "The error rate of Test Dataset is: % 2.8528528528528527 \n",
      "\n",
      "\n",
      "ALL ERROR RATES FOR 3-FOLD CROSS VALIDATION (%):  [3.1484257871064467, 3.4482758620689653, 2.8528528528528527]\n",
      "THE AVERAGE ERROR OF THE TESTING RESULT (%):  3.1498515006760877\n"
     ]
    }
   ],
   "source": [
    "\n",
    "kf = KFold(n_splits=3, random_state = 1773, shuffle=True) #3 Fold and random state is 1773\n",
    "kf.get_n_splits(concat_train_test_2)\n",
    "error_rates_fold = []\n",
    "print(\"3-FOLD CROSS VALIDATION FOR DATASET 1 (TRAIN+TEST)\\n\")\n",
    "for train, test in kf.split(concat_train_test_2):     #For each fold, we have train and test samples are splitted\n",
    "                                                      #Covariances and mean vectors are calculated\n",
    "\n",
    "    train_dataset = concat_train_test_2.take(train)\n",
    "    test_dataset = concat_train_test_2.take(test)\n",
    "    \n",
    "    train_label_0 = train_dataset[train_dataset['y'] == 0]\n",
    "    train_label_1 = train_dataset[train_dataset['y'] == 1]\n",
    "    test_label_0 = test_dataset[test_dataset['y'] == 0]\n",
    "    test_label_1 = test_dataset[test_dataset['y'] == 1]\n",
    "    \n",
    "    \n",
    "    train_features_0 = train_label_0[['x1','x2']].values.T\n",
    "    train_features_1 = train_label_1[['x1','x2']].values.T\n",
    "    test_features_0 = test_label_0[['x1','x2']].values.T\n",
    "    test_features_1 = test_label_1[['x1','x2']].values.T\n",
    "\n",
    "\n",
    "    mean_vector_train_class_0 = np.array([np.mean(train_features_0[0]),np.mean(train_features_0[1])])\n",
    "    mean_vector_train_class_1 = np.array([np.mean(train_features_1[0]),np.mean(train_features_1[1])])\n",
    "    mean_vector_test_class_0 = np.array([np.mean(test_features_0[0]),np.mean(test_features_0[1])])\n",
    "    mean_vector_test_class_1 = np.array([np.mean(test_features_1[0]),np.mean(test_features_1[1])])\n",
    "                                \n",
    "    cov_matr_train_0 = calculate_covariance(train_features_0)\n",
    "    cov_matr_train_1 = calculate_covariance(train_features_1)\n",
    "    cov_matr_test_0 = calculate_covariance(test_features_0)\n",
    "    cov_matr_test_1 = calculate_covariance(test_features_1)\n",
    "                                \n",
    "    print(\"Mean Vector of Train Dataset Class 0\\n\", mean_vector_train_class_0,\"\\n\")\n",
    "    print(\"Mean Vector of Train Dataset Class 1\\n\", mean_vector_train_class_1,\"\\n\")\n",
    "    print(\"Mean Vector of Test Dataset Class 0\\n\", mean_vector_test_class_0,\"\\n\")\n",
    "    print(\"Mean Vector of Test Dataset Class 1\\n\", mean_vector_test_class_1,\"\\n\")\n",
    "                                \n",
    "    print(\"Covariance Matrix of Train Dataset Class 0\\n\", cov_matr_train_0,\"\\n\")\n",
    "    print(\"Covariance Matrix of Train Dataset Class 1\\n\", cov_matr_train_1,\"\\n\")\n",
    "    print(\"Covariance Matrix of Test Dataset Class 0\\n\", cov_matr_test_0,\"\\n\")\n",
    "    print(\"Covariance Matrix of Test Dataset Class 1\\n\", cov_matr_test_1,\"\\n\")\n",
    "    \n",
    "    #Training the train dataset, computing gi(x) coefficients\n",
    "    \n",
    "    a0,b0,a1,b1,quad_0, quad_1 = trainBayes(train_dataset)\n",
    "    \n",
    "    #Testing the Test Dataset\n",
    "    \n",
    "    my_res_2 = np.array(classify_dataset(test_dataset,a0,b0,a1,b1,quad_0,quad_1)).astype(np.float32)\n",
    "    ground_truth_test2 = test_dataset['y'].values\n",
    "    res_2 = np.abs(ground_truth_test2 - my_res_2)\n",
    "    occurrences = np.count_nonzero(res_2 == 1)\n",
    "\n",
    "    #Computing Error rate for each Fold\n",
    "\n",
    "    error_rate = (occurrences/len(test_dataset))*100\n",
    "    print(\"The error rate of Test Dataset is: %\",error_rate,\"\\n\\n\") #Error Rate for left-out Fold\n",
    "    error_rates_fold.append(error_rate)   #Saving The Errors\n",
    "    \n",
    "print(\"ALL ERROR RATES FOR 3-FOLD CROSS VALIDATION (%): \",error_rates_fold)\n",
    "print(\"THE AVERAGE ERROR OF THE TESTING RESULT (%): \", (np.sum(error_rates_fold))/len(error_rates_fold))\n"
   ]
  },
  {
   "cell_type": "markdown",
   "metadata": {},
   "source": [
    "**Without using 3-Fold Cross Validation, the error rate of the test2 dataset was %3.25. After implementing 3-Fold cross validation we have %3.1498515 error rate which is better than the normal implementation. In 3-Fold, some random folds are also have %2.852852 error rates. Thanks to the 3-Fold Cross Validation, some possible distrubiton of training and testing samples are done and we can see the accuracy and error rates for each distributions. However, in the normal implementation we have certain training and testing samples and we cannot see possible accuracy and error rates. Also this 3-Fold gives us more accurate average testing results than the normal one because it gives us more accurate distributions for both training and testing. Thus, 3-Fold cross-validation is more reliable than the normal implementation.**"
   ]
  },
  {
   "cell_type": "markdown",
   "metadata": {},
   "source": [
    "## PART D - Evaluation of Bayes classifier on Dataset2_modified\n",
    "**In this part, we will implement the dataset2_modified dataset. We will plot it like dataset1 and dataset2. We will compute mean vectors and covariance matrices. We will train it and test on the test2 dataset**"
   ]
  },
  {
   "cell_type": "code",
   "execution_count": 41,
   "metadata": {},
   "outputs": [
    {
     "data": {
      "text/html": [
       "<div>\n",
       "<style scoped>\n",
       "    .dataframe tbody tr th:only-of-type {\n",
       "        vertical-align: middle;\n",
       "    }\n",
       "\n",
       "    .dataframe tbody tr th {\n",
       "        vertical-align: top;\n",
       "    }\n",
       "\n",
       "    .dataframe thead th {\n",
       "        text-align: right;\n",
       "    }\n",
       "</style>\n",
       "<table border=\"1\" class=\"dataframe\">\n",
       "  <thead>\n",
       "    <tr style=\"text-align: right;\">\n",
       "      <th></th>\n",
       "      <th>x1</th>\n",
       "      <th>x2</th>\n",
       "      <th>y</th>\n",
       "    </tr>\n",
       "  </thead>\n",
       "  <tbody>\n",
       "    <tr>\n",
       "      <th>0</th>\n",
       "      <td>3.810828</td>\n",
       "      <td>6.928757</td>\n",
       "      <td>1.0</td>\n",
       "    </tr>\n",
       "    <tr>\n",
       "      <th>1</th>\n",
       "      <td>4.376219</td>\n",
       "      <td>6.141752</td>\n",
       "      <td>0.0</td>\n",
       "    </tr>\n",
       "    <tr>\n",
       "      <th>2</th>\n",
       "      <td>5.092311</td>\n",
       "      <td>6.931234</td>\n",
       "      <td>0.0</td>\n",
       "    </tr>\n",
       "    <tr>\n",
       "      <th>3</th>\n",
       "      <td>4.358281</td>\n",
       "      <td>7.324346</td>\n",
       "      <td>0.0</td>\n",
       "    </tr>\n",
       "    <tr>\n",
       "      <th>4</th>\n",
       "      <td>5.379770</td>\n",
       "      <td>7.549258</td>\n",
       "      <td>1.0</td>\n",
       "    </tr>\n",
       "    <tr>\n",
       "      <th>5</th>\n",
       "      <td>3.446187</td>\n",
       "      <td>5.632737</td>\n",
       "      <td>0.0</td>\n",
       "    </tr>\n",
       "    <tr>\n",
       "      <th>6</th>\n",
       "      <td>5.419065</td>\n",
       "      <td>3.669056</td>\n",
       "      <td>1.0</td>\n",
       "    </tr>\n",
       "    <tr>\n",
       "      <th>7</th>\n",
       "      <td>4.896247</td>\n",
       "      <td>7.394489</td>\n",
       "      <td>0.0</td>\n",
       "    </tr>\n",
       "    <tr>\n",
       "      <th>8</th>\n",
       "      <td>4.864715</td>\n",
       "      <td>6.996115</td>\n",
       "      <td>1.0</td>\n",
       "    </tr>\n",
       "    <tr>\n",
       "      <th>9</th>\n",
       "      <td>6.249258</td>\n",
       "      <td>3.986730</td>\n",
       "      <td>1.0</td>\n",
       "    </tr>\n",
       "  </tbody>\n",
       "</table>\n",
       "</div>"
      ],
      "text/plain": [
       "         x1        x2    y\n",
       "0  3.810828  6.928757  1.0\n",
       "1  4.376219  6.141752  0.0\n",
       "2  5.092311  6.931234  0.0\n",
       "3  4.358281  7.324346  0.0\n",
       "4  5.379770  7.549258  1.0\n",
       "5  3.446187  5.632737  0.0\n",
       "6  5.419065  3.669056  1.0\n",
       "7  4.896247  7.394489  0.0\n",
       "8  4.864715  6.996115  1.0\n",
       "9  6.249258  3.986730  1.0"
      ]
     },
     "execution_count": 41,
     "metadata": {},
     "output_type": "execute_result"
    }
   ],
   "source": [
    "#Implement Part D:\n",
    "df2m.head(10)  #First 10 samples for df2m"
   ]
  },
  {
   "cell_type": "code",
   "execution_count": 42,
   "metadata": {},
   "outputs": [
    {
     "data": {
      "text/plain": [
       "Text(0.5, 0, 'Feature 1')"
      ]
     },
     "execution_count": 42,
     "metadata": {},
     "output_type": "execute_result"
    },
    {
     "data": {
      "image/png": "[encoded data removed]",
      "text/plain": [
       "<Figure size 720x720 with 1 Axes>"
      ]
     },
     "metadata": {
      "needs_background": "light"
     },
     "output_type": "display_data"
    }
   ],
   "source": [
    "#Plotting Dataset2_modified\n",
    "df2m_x1_label_0 = df2m_label_0[0]\n",
    "df2m_x2_label_0 = df2m_label_0[1]\n",
    "\n",
    "df2m_x1_label_1 = df2m_label_1[0]\n",
    "df2m_x2_label_1 = df2m_label_1[1]\n",
    "\n",
    "fig = plt.figure(figsize=(10,10))\n",
    "ax = fig.add_subplot(111)\n",
    "\n",
    "ax.scatter(df2m_x1_label_0,df2m_x2_label_0)\n",
    "ax.scatter(df2m_x1_label_1,df2m_x2_label_1)\n",
    "\n",
    "ax.legend([\"Class 0\", \"Class 1\"])\n",
    "plt.title(\"Scatter Plot of The Dataset 2 Modified\")\n",
    "plt.ylabel(\"Feature 2\")\n",
    "plt.xlabel(\"Feature 1\")"
   ]
  },
  {
   "cell_type": "markdown",
   "metadata": {},
   "source": [
    "**By looking at the Dataset 2 Modified scatter plot, we can say that there is more overlay data points between classes than the Dataset 2. And this might causes to decrease the model performance (accuracy) and increase the error rate. However, this might causes to increase the model performance (accuracy) and decrease the error rate because of the variance of the modified training data**"
   ]
  },
  {
   "cell_type": "markdown",
   "metadata": {},
   "source": [
    "## Training and Testing the Dataset2_Modified"
   ]
  },
  {
   "cell_type": "markdown",
   "metadata": {},
   "source": [
    "### Finding Mean Vectors and Covariance Matrices for Each Class"
   ]
  },
  {
   "cell_type": "code",
   "execution_count": 43,
   "metadata": {},
   "outputs": [
    {
     "name": "stdout",
     "output_type": "stream",
     "text": [
      "Mean Vector of Modified Dataset 2 Class 0\n",
      " [4.67525961 6.82826434] \n",
      "\n",
      "Mean Vector of Modified Dataset 2 Class 1\n",
      " [4.30947868 4.56421677] \n",
      "\n",
      "Covariance Matrix of Modified Dataset 2 Class 0\n",
      " [[0.31185118 0.22734907]\n",
      " [0.22734907 0.55306169]] \n",
      "\n",
      "Covariance Matrix of Modified Dataset 2 Class 1\n",
      " [[0.76729844 0.11960038]\n",
      " [0.11960038 0.66455599]] \n",
      "\n"
     ]
    }
   ],
   "source": [
    "df2m_label_0 = df2m[df2m['y'] == 0]\n",
    "df2m_label_1 = df2m[df2m['y'] == 1]\n",
    "\n",
    "df2m_features_0 = df2m_label_0[['x1','x2']].values.T\n",
    "df2m_features_1 = df2m_label_1[['x1','x2']].values.T\n",
    "\n",
    "mean_vector_df2m_class_0 = np.array([np.mean(df2m_features_0[0]),np.mean(df2m_features_0[1])])\n",
    "mean_vector_df2m_class_1 = np.array([np.mean(df2m_features_1[0]),np.mean(df2m_features_1[1])])\n",
    "\n",
    "cov_matr_df2m_0 = calculate_covariance(df2m_features_0)\n",
    "cov_matr_df2m_1 = calculate_covariance(df2m_features_1)\n",
    "\n",
    "print(\"Mean Vector of Modified Dataset 2 Class 0\\n\", mean_vector_df2m_class_0,\"\\n\")\n",
    "print(\"Mean Vector of Modified Dataset 2 Class 1\\n\", mean_vector_df2m_class_1,\"\\n\")\n",
    "\n",
    "print(\"Covariance Matrix of Modified Dataset 2 Class 0\\n\", cov_matr_df2m_0,\"\\n\")\n",
    "print(\"Covariance Matrix of Modified Dataset 2 Class 1\\n\", cov_matr_df2m_1,\"\\n\")"
   ]
  },
  {
   "cell_type": "markdown",
   "metadata": {},
   "source": [
    "### Training - Testing for Modified Dataset 2"
   ]
  },
  {
   "cell_type": "code",
   "execution_count": 44,
   "metadata": {},
   "outputs": [
    {
     "name": "stdout",
     "output_type": "stream",
     "text": [
      "The error rate of Dataset 2 Modified is: % 2.5\n"
     ]
    }
   ],
   "source": [
    "a0,b0,a1,b1,quad_0, quad_1 = trainBayes(df2m)\n",
    "my_res_2 = np.array(classify_dataset(test2,a0,b0,a1,b1,quad_0,quad_1)).astype(np.float32)\n",
    "ground_truth_test2 = test2['y'].values\n",
    "res_2 = np.abs(ground_truth_test2 - my_res_2)\n",
    "occurrences = np.count_nonzero(res_2 == 1)\n",
    "error_rate = (occurrences/len(test2))*100\n",
    "print(\"The error rate of Dataset 2 Modified is: %\",error_rate)"
   ]
  },
  {
   "cell_type": "markdown",
   "metadata": {},
   "source": [
    "**As we can see from above, we have %2.5 error rate which is lower than the trained by the normal dataset2. The performance of this model is higher than the other model trained by the normal dataset. If we look at the covariance matrices for the normal dataset2 and modified dataset2, variance values of the modified dataset2 is higher than the normal dataset2 for both classes. Also, the modified training set has more outliers and the Bayes classifier may learn these samples more adaptive than the normal dataset2. That's why it may perform better for the samples which are located on the between of the classes. In addition, the test samples might be similar to the modified dataset2 about localization. Thus, these samples may be performed better on the Bayes classifier discriminant function of the modified dataset2 than the normal dataset2.**"
   ]
  }
 ],
 "metadata": {
  "kernelspec": {
   "display_name": "Python 3",
   "language": "python",
   "name": "python3"
  },
  "language_info": {
   "codemirror_mode": {
    "name": "ipython",
    "version": 3
   },
   "file_extension": ".py",
   "mimetype": "text/x-python",
   "name": "python",
   "nbconvert_exporter": "python",
   "pygments_lexer": "ipython3",
   "version": "3.7.6"
  }
 },
 "nbformat": 4,
 "nbformat_minor": 4
}
